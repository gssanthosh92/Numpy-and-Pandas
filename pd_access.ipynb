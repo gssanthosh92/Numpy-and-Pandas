{
 "cells": [
  {
   "cell_type": "code",
   "execution_count": 1,
   "metadata": {},
   "outputs": [],
   "source": [
    "import pandas as pd"
   ]
  },
  {
   "cell_type": "code",
   "execution_count": 2,
   "metadata": {},
   "outputs": [
    {
     "name": "stdout",
     "output_type": "stream",
     "text": [
      "          Vol  Rev  Exp Catg  EmpCnt   HQ\n",
      "HCL       931  863  605  Pub    1935  NCR\n",
      "MRF       992  821  665  Pub    1154  Che\n",
      "ISROACL   931  881  650  Gov    1361  Blr\n",
      "Reliance  899  217  674  Pub    1443  Mum\n",
      "BCCI      925  839  615  Pvt     154  Mum\n",
      "Birla     900  874  676  Pub    1379  Kol\n",
      "Flipkart  966  805  695  Pvt     119  Blr\n",
      "TSL       966  863  608  Pub    1656  Jmd\n",
      "IR        954  833  609  Gov   13023  NCR\n",
      "Index(['HCL', 'MRF', 'ISROACL', 'Reliance', 'BCCI', 'Birla', 'Flipkart', 'TSL',\n",
      "       'IR'],\n",
      "      dtype='object')\n",
      "Index(['Vol', 'Rev', 'Exp', 'Catg', 'EmpCnt', 'HQ'], dtype='object')\n"
     ]
    }
   ],
   "source": [
    "df1 = pd.read_csv(\"profit.csv\")\n",
    "print(df1)\n",
    "print(df1.index)\n",
    "print(df1.columns)"
   ]
  },
  {
   "cell_type": "markdown",
   "metadata": {},
   "source": [
    "# Access Columns"
   ]
  },
  {
   "cell_type": "code",
   "execution_count": 3,
   "metadata": {},
   "outputs": [
    {
     "name": "stdout",
     "output_type": "stream",
     "text": [
      "HCL         863\n",
      "MRF         821\n",
      "ISROACL     881\n",
      "Reliance    217\n",
      "BCCI        839\n",
      "Birla       874\n",
      "Flipkart    805\n",
      "TSL         863\n",
      "IR          833\n",
      "Name: Rev, dtype: int64\n",
      "HCL         863\n",
      "MRF         821\n",
      "ISROACL     881\n",
      "Reliance    217\n",
      "BCCI        839\n",
      "Birla       874\n",
      "Flipkart    805\n",
      "TSL         863\n",
      "IR          833\n",
      "Name: Rev, dtype: int64\n"
     ]
    }
   ],
   "source": [
    "print(df1['Rev'])\n",
    "print(df1.Rev  )"
   ]
  },
  {
   "cell_type": "code",
   "execution_count": 4,
   "metadata": {},
   "outputs": [
    {
     "name": "stdout",
     "output_type": "stream",
     "text": [
      "          Rev  Vol  Exp\n",
      "HCL       863  931  605\n",
      "MRF       821  992  665\n",
      "ISROACL   881  931  650\n",
      "Reliance  217  899  674\n",
      "BCCI      839  925  615\n",
      "Birla     874  900  676\n",
      "Flipkart  805  966  695\n",
      "TSL       863  966  608\n",
      "IR        833  954  609\n"
     ]
    }
   ],
   "source": [
    "print(df1[['Rev', 'Vol', 'Exp']])"
   ]
  },
  {
   "cell_type": "markdown",
   "metadata": {},
   "source": [
    "# iloc based Access"
   ]
  },
  {
   "cell_type": "code",
   "execution_count": 17,
   "metadata": {},
   "outputs": [
    {
     "name": "stdout",
     "output_type": "stream",
     "text": [
      "          Vol  Rev  Exp Catg  EmpCnt   HQ\n",
      "HCL       931  863  605  Pub    1935  NCR\n",
      "MRF       992  821  665  Pub    1154  Che\n",
      "ISROACL   931  881  650  Gov    1361  Blr\n",
      "Reliance  899  217  674  Pub    1443  Mum\n",
      "BCCI      925  839  615  Pvt     154  Mum\n",
      "Birla     900  874  676  Pub    1379  Kol\n",
      "Flipkart  966  805  695  Pvt     119  Blr\n",
      "TSL       966  863  608  Pub    1656  Jmd\n",
      "IR        954  833  609  Gov   13023  NCR\n",
      "931\n",
      "821\n",
      "615\n"
     ]
    }
   ],
   "source": [
    "print(df1)\n",
    "print(df1.iloc[0,0])\n",
    "print(df1.iloc[1,1])\n",
    "print(df1.iloc[4,2])"
   ]
  },
  {
   "cell_type": "code",
   "execution_count": 6,
   "metadata": {
    "scrolled": true
   },
   "outputs": [
    {
     "name": "stdout",
     "output_type": "stream",
     "text": [
      "          Vol  Rev  Exp Catg  EmpCnt   HQ\n",
      "HCL       931  863  605  Pub    1935  NCR\n",
      "MRF       992  821  665  Pub    1154  Che\n",
      "ISROACL   931  881  650  Gov    1361  Blr\n",
      "Reliance  899  217  674  Pub    1443  Mum\n",
      "BCCI      925  839  615  Pvt     154  Mum\n",
      "Birla     900  874  676  Pub    1379  Kol\n",
      "Flipkart  966  805  695  Pvt     119  Blr\n",
      "TSL       966  863  608  Pub    1656  Jmd\n",
      "IR        954  833  609  Gov   13023  NCR\n",
      "HCL        863\n",
      "ISROACL    881\n",
      "BCCI       839\n",
      "Name: Rev, dtype: int64\n",
      "          Rev  Exp  Vol\n",
      "HCL       863  605  931\n",
      "BCCI      839  615  925\n",
      "Reliance  217  674  899\n"
     ]
    }
   ],
   "source": [
    "print(df1)\n",
    "print(df1.iloc[[0,2,4],1])\n",
    "print(df1.iloc[[0,4,3],[1,2,0]])"
   ]
  },
  {
   "cell_type": "code",
   "execution_count": 7,
   "metadata": {},
   "outputs": [
    {
     "name": "stdout",
     "output_type": "stream",
     "text": [
      "          Vol  Rev  Exp Catg  EmpCnt   HQ\n",
      "HCL       931  863  605  Pub    1935  NCR\n",
      "MRF       992  821  665  Pub    1154  Che\n",
      "ISROACL   931  881  650  Gov    1361  Blr\n",
      "Reliance  899  217  674  Pub    1443  Mum\n",
      "BCCI      925  839  615  Pvt     154  Mum\n",
      "Birla     900  874  676  Pub    1379  Kol\n",
      "Flipkart  966  805  695  Pvt     119  Blr\n",
      "TSL       966  863  608  Pub    1656  Jmd\n",
      "IR        954  833  609  Gov   13023  NCR\n",
      "         Rev  Exp Catg  EmpCnt\n",
      "HCL      863  605  Pub    1935\n",
      "MRF      821  665  Pub    1154\n",
      "ISROACL  881  650  Gov    1361\n",
      "          Vol  Exp\n",
      "MRF       992  665\n",
      "Reliance  899  674\n"
     ]
    }
   ],
   "source": [
    "print(df1)\n",
    "print(df1.iloc[0:3,1:5])\n",
    "print(df1.iloc[1:4:2,0:4:2])"
   ]
  },
  {
   "cell_type": "code",
   "execution_count": 8,
   "metadata": {},
   "outputs": [
    {
     "name": "stdout",
     "output_type": "stream",
     "text": [
      "          Vol  Rev  Exp Catg  EmpCnt   HQ\n",
      "HCL       931  863  605  Pub    1935  NCR\n",
      "MRF       992  821  665  Pub    1154  Che\n",
      "ISROACL   931  881  650  Gov    1361  Blr\n",
      "Reliance  899  217  674  Pub    1443  Mum\n",
      "BCCI      925  839  615  Pvt     154  Mum\n",
      "Birla     900  874  676  Pub    1379  Kol\n",
      "Flipkart  966  805  695  Pvt     119  Blr\n",
      "TSL       966  863  608  Pub    1656  Jmd\n",
      "IR        954  833  609  Gov   13023  NCR\n",
      "          Exp Catg\n",
      "ISROACL   650  Gov\n",
      "BCCI      615  Pvt\n",
      "Reliance  674  Pub\n",
      "          EmpCnt Catg  Exp\n",
      "MRF         1154  Pub  665\n",
      "Reliance    1443  Pub  674\n",
      "Birla       1379  Pub  676\n",
      "          Vol  Rev  Exp Catg  EmpCnt   HQ\n",
      "ISROACL   931  881  650  Gov    1361  Blr\n",
      "Reliance  899  217  674  Pub    1443  Mum\n",
      "          Exp Catg\n",
      "HCL       605  Pub\n",
      "MRF       665  Pub\n",
      "ISROACL   650  Gov\n",
      "Reliance  674  Pub\n",
      "BCCI      615  Pvt\n",
      "Birla     676  Pub\n",
      "Flipkart  695  Pvt\n",
      "TSL       608  Pub\n",
      "IR        609  Gov\n"
     ]
    }
   ],
   "source": [
    "print(df1)\n",
    "print(df1.iloc[[2,4,3],2:4])\n",
    "print(df1.iloc[1:6:2,4:1:-1])\n",
    "print(df1.iloc[2:4])\n",
    "print(df1.iloc[:,2:4])"
   ]
  },
  {
   "cell_type": "code",
   "execution_count": 9,
   "metadata": {},
   "outputs": [
    {
     "name": "stdout",
     "output_type": "stream",
     "text": [
      "     Vol  Rev  Exp Catg  EmpCnt   HQ\n",
      "HCL  931  863  605  Pub    1935  NCR\n",
      "MRF  992  821  665  Pub    1154  Che\n"
     ]
    }
   ],
   "source": [
    "print(df1.iloc[[True,True]])"
   ]
  },
  {
   "cell_type": "code",
   "execution_count": 10,
   "metadata": {},
   "outputs": [
    {
     "name": "stdout",
     "output_type": "stream",
     "text": [
      "         Vol  Rev  Exp Catg  EmpCnt   HQ\n",
      "HCL      931  863  605  Pub    1935  NCR\n",
      "ISROACL  931  881  650  Gov    1361  Blr\n"
     ]
    }
   ],
   "source": [
    "mask = [True,False,True]\n",
    "print(df1.iloc[mask])"
   ]
  },
  {
   "cell_type": "code",
   "execution_count": 11,
   "metadata": {},
   "outputs": [
    {
     "name": "stdout",
     "output_type": "stream",
     "text": [
      "     Vol  Rev  Exp\n",
      "HCL  931  863  605\n",
      "MRF  992  821  665\n"
     ]
    }
   ],
   "source": [
    "print(df1.iloc[[True, True], [True, True, True]])"
   ]
  },
  {
   "cell_type": "code",
   "execution_count": 12,
   "metadata": {},
   "outputs": [
    {
     "name": "stdout",
     "output_type": "stream",
     "text": [
      "          Vol  Rev  Exp Catg  EmpCnt   HQ\n",
      "HCL       931  863  605  Pub    1935  NCR\n",
      "MRF       992  821  665  Pub    1154  Che\n",
      "ISROACL   931  881  650  Gov    1361  Blr\n",
      "Reliance  899  217  674  Pub    1443  Mum\n",
      "BCCI      925  839  615  Pvt     154  Mum\n",
      "Birla     900  874  676  Pub    1379  Kol\n",
      "Flipkart  966  805  695  Pvt     119  Blr\n",
      "TSL       966  863  608  Pub    1656  Jmd\n",
      "IR        954  833  609  Gov   13023  NCR\n",
      "          Vol  Rev\n",
      "HCL       931  863\n",
      "MRF       992  821\n",
      "Reliance  899  217\n",
      "BCCI      925  839\n"
     ]
    }
   ],
   "source": [
    "print(df1)\n",
    "print(df1.iloc[[True,True,False,True, True],[True,True,False]])"
   ]
  },
  {
   "cell_type": "markdown",
   "metadata": {},
   "source": [
    "# loc based Access"
   ]
  },
  {
   "cell_type": "code",
   "execution_count": 13,
   "metadata": {},
   "outputs": [
    {
     "name": "stdout",
     "output_type": "stream",
     "text": [
      "          Vol  Rev  Exp Catg  EmpCnt   HQ\n",
      "HCL       931  863  605  Pub    1935  NCR\n",
      "MRF       992  821  665  Pub    1154  Che\n",
      "ISROACL   931  881  650  Gov    1361  Blr\n",
      "Reliance  899  217  674  Pub    1443  Mum\n",
      "BCCI      925  839  615  Pvt     154  Mum\n",
      "Birla     900  874  676  Pub    1379  Kol\n",
      "Flipkart  966  805  695  Pvt     119  Blr\n",
      "TSL       966  863  608  Pub    1656  Jmd\n",
      "IR        954  833  609  Gov   13023  NCR\n"
     ]
    }
   ],
   "source": [
    "print(df1)"
   ]
  },
  {
   "cell_type": "code",
   "execution_count": 14,
   "metadata": {},
   "outputs": [
    {
     "name": "stdout",
     "output_type": "stream",
     "text": [
      "Vol        992\n",
      "Rev        821\n",
      "Exp        665\n",
      "Catg       Pub\n",
      "EmpCnt    1154\n",
      "HQ         Che\n",
      "Name: MRF, dtype: object\n",
      "992\n",
      "MRF    992\n",
      "TSL    966\n",
      "Name: Vol, dtype: int64\n",
      "      Vol  Exp Catg\n",
      "MRF   992  665  Pub\n",
      "TSL   966  608  Pub\n",
      "BCCI  925  615  Pvt\n",
      "          Vol  Exp Catg\n",
      "MRF       992  665  Pub\n",
      "ISROACL   931  650  Gov\n",
      "Reliance  899  674  Pub\n",
      "BCCI      925  615  Pvt\n",
      "Birla     900  676  Pub\n",
      "Flipkart  966  695  Pvt\n",
      "TSL       966  608  Pub\n",
      "          Rev  Exp Catg\n",
      "MRF       821  665  Pub\n",
      "ISROACL   881  650  Gov\n",
      "Reliance  217  674  Pub\n",
      "BCCI      839  615  Pvt\n",
      "Birla     874  676  Pub\n",
      "Flipkart  805  695  Pvt\n",
      "TSL       863  608  Pub\n",
      "          Rev Catg\n",
      "MRF       821  Pub\n",
      "Reliance  217  Pub\n",
      "Birla     874  Pub\n",
      "TSL       863  Pub\n",
      "          Vol  Rev  Exp Catg  EmpCnt   HQ\n",
      "MRF       992  821  665  Pub    1154  Che\n",
      "Reliance  899  217  674  Pub    1443  Mum\n",
      "Birla     900  874  676  Pub    1379  Kol\n",
      "TSL       966  863  608  Pub    1656  Jmd\n",
      "          Rev Catg\n",
      "HCL       863  Pub\n",
      "MRF       821  Pub\n",
      "ISROACL   881  Gov\n",
      "Reliance  217  Pub\n",
      "BCCI      839  Pvt\n",
      "Birla     874  Pub\n",
      "Flipkart  805  Pvt\n",
      "TSL       863  Pub\n",
      "IR        833  Gov\n"
     ]
    }
   ],
   "source": [
    "print(df1.loc['MRF'])\n",
    "print(df1.loc['MRF','Vol'])\n",
    "print(df1.loc[['MRF','TSL'],'Vol'])\n",
    "print(df1.loc[['MRF','TSL', 'BCCI'],['Vol','Exp','Catg']])\n",
    "print(df1.loc['MRF':'TSL',['Vol','Exp','Catg']])\n",
    "print(df1.loc['MRF':'TSL','Rev':'Catg'])\n",
    "print(df1.loc['MRF':'TSL':2,'Rev':'EmpCnt':2])\n",
    "print(df1.loc['MRF':'TSL':2,:])\n",
    "print(df1.loc[:,'Rev':'EmpCnt':2])"
   ]
  },
  {
   "cell_type": "markdown",
   "metadata": {},
   "source": [
    "# Conditional Access"
   ]
  },
  {
   "cell_type": "code",
   "execution_count": 15,
   "metadata": {},
   "outputs": [
    {
     "name": "stdout",
     "output_type": "stream",
     "text": [
      "          Vol  Rev  Exp Catg  EmpCnt   HQ\n",
      "HCL       931  863  605  Pub    1935  NCR\n",
      "MRF       992  821  665  Pub    1154  Che\n",
      "ISROACL   931  881  650  Gov    1361  Blr\n",
      "Reliance  899  217  674  Pub    1443  Mum\n",
      "BCCI      925  839  615  Pvt     154  Mum\n",
      "Birla     900  874  676  Pub    1379  Kol\n",
      "Flipkart  966  805  695  Pvt     119  Blr\n",
      "TSL       966  863  608  Pub    1656  Jmd\n",
      "IR        954  833  609  Gov   13023  NCR\n",
      "Index(['HCL', 'MRF', 'ISROACL', 'Reliance', 'BCCI', 'Birla', 'Flipkart', 'TSL',\n",
      "       'IR'],\n",
      "      dtype='object')\n",
      "            Vol  Rev  Exp Catg  EmpCnt   HQ\n",
      "HCL       931.0  863  605  Pub    1935  NCR\n",
      "MRF       992.0  821  665  Pub    1154  Che\n",
      "ISROACL   931.0  881  650  Gov    1361  Blr\n",
      "Reliance  899.0  217  674  Pub    1443  Mum\n",
      "BCCI      925.0  839  615  Pvt     154  Mum\n",
      "Birla       NaN  874  676  Pub    1379  Kol\n",
      "Flipkart  966.0  805  695  Pvt     119  Blr\n",
      "TSL       966.0  863  608  Pub    1656  Jmd\n",
      "IR        954.0  833  609  Gov   13023  NCR\n"
     ]
    }
   ],
   "source": [
    "print(df1)\n",
    "print(df1.index)\n",
    "print(df1[df1 != 900])\n",
    "#print(df1.index %2 == 0)\n",
    "#print(df1.iloc[df1.index%2==0])"
   ]
  },
  {
   "cell_type": "code",
   "execution_count": 16,
   "metadata": {},
   "outputs": [
    {
     "name": "stdout",
     "output_type": "stream",
     "text": [
      "          Vol  Rev  Exp Catg  EmpCnt   HQ\n",
      "HCL       931  863  605  Pub    1935  NCR\n",
      "MRF       992  821  665  Pub    1154  Che\n",
      "ISROACL   931  881  650  Gov    1361  Blr\n",
      "Reliance  899  217  674  Pub    1443  Mum\n",
      "BCCI      925  839  615  Pvt     154  Mum\n",
      "Birla     900  874  676  Pub    1379  Kol\n",
      "Flipkart  966  805  695  Pvt     119  Blr\n",
      "TSL       966  863  608  Pub    1656  Jmd\n",
      "IR        954  833  609  Gov   13023  NCR\n",
      "HCL          True\n",
      "MRF          True\n",
      "ISROACL      True\n",
      "Reliance     True\n",
      "BCCI         True\n",
      "Birla       False\n",
      "Flipkart     True\n",
      "TSL          True\n",
      "IR           True\n",
      "Name: Vol, dtype: bool\n",
      "[ True  True  True  True  True False  True  True  True]\n",
      "     Vol  Rev  Exp Catg  EmpCnt   HQ\n",
      "HCL  931  863  605  Pub    1935  NCR\n"
     ]
    }
   ],
   "source": [
    "print(df1)\n",
    "mask = df1.loc[:,'Vol'] != 900\n",
    "print(mask)\n",
    "mv = mask.values\n",
    "print(mv)\n",
    "df2 = df1.loc[[True]]\n",
    "print(df2)"
   ]
  },
  {
   "cell_type": "code",
   "execution_count": null,
   "metadata": {},
   "outputs": [],
   "source": []
  }
 ],
 "metadata": {
  "kernelspec": {
   "display_name": "Python 3",
   "language": "python",
   "name": "python3"
  },
  "language_info": {
   "codemirror_mode": {
    "name": "ipython",
    "version": 3
   },
   "file_extension": ".py",
   "mimetype": "text/x-python",
   "name": "python",
   "nbconvert_exporter": "python",
   "pygments_lexer": "ipython3",
   "version": "3.7.3"
  }
 },
 "nbformat": 4,
 "nbformat_minor": 2
}
