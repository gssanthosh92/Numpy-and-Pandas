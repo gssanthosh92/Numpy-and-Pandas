{
 "cells": [
  {
   "cell_type": "markdown",
   "metadata": {},
   "source": [
    "# Concat function"
   ]
  },
  {
   "cell_type": "code",
   "execution_count": 32,
   "metadata": {},
   "outputs": [
    {
     "name": "stdout",
     "output_type": "stream",
     "text": [
      "          Vol  Rev  Exp Catg  EmpCnt   HQ\n",
      "HCL       931  863  605  Pub    1935  NCR\n",
      "MRF       992  821  665  Pub    1154  Che\n",
      "ISROACL   931  881  650  Gov    1361  Blr\n",
      "Reliance  899  217  674  Pvt    1443  Mum\n",
      "BCCI      925  839  615  Pvt     154  Mum\n",
      "Birla     900  874  676  Pub    1379  Kol\n",
      "Flipkart  966  805  695  Pvt     119  Blr\n",
      "TSL       966  863  608  Pub    1656  Jmd\n",
      "IR        954  833  609  Gov   13023  NCR\n",
      "            Vol  Rev  Expn  Grp  EmpCnt   HQ\n",
      "MRF         192  221   165  Pub    1154  Che\n",
      "TCS         131  263   105  Pub    1935  Mum\n",
      "Infosys     199  217   174  Pub    1443  Blr\n",
      "ISL         125  239   115  Pvt     154  NCR\n",
      "Birlagroup  100  274   176  Pub    1379  Kol\n",
      "IBM         131  281   150  MNC    1361  NCR\n",
      "Microsoft   166  205   195  MNC     119  Hyd\n",
      "Leyland     166  263   108  Pub    1656  Che\n",
      "TI          154  233   109  MNC   13023  Blr\n"
     ]
    }
   ],
   "source": [
    "import pandas as pd\n",
    "\n",
    "df1 = pd.read_csv(\"profit.csv\")\n",
    "df2 = pd.read_csv(\"profit1.csv\")\n",
    "\n",
    "print(df1)\n",
    "print(df2)\n",
    "\n",
    "pd.set_option(\"display.max_rows\", None)\n",
    "pd.set_option(\"display.max_columns\", None)\n",
    "pd.set_option('display.width', 2000)"
   ]
  },
  {
   "cell_type": "code",
   "execution_count": 33,
   "metadata": {},
   "outputs": [
    {
     "name": "stdout",
     "output_type": "stream",
     "text": [
      "              Vol    Rev    Exp Catg   EmpCnt   HQ    Vol    Rev   Expn  Grp   EmpCnt   HQ\n",
      "HCL         931.0  863.0  605.0  Pub   1935.0  NCR    NaN    NaN    NaN  NaN      NaN  NaN\n",
      "MRF         992.0  821.0  665.0  Pub   1154.0  Che  192.0  221.0  165.0  Pub   1154.0  Che\n",
      "ISROACL     931.0  881.0  650.0  Gov   1361.0  Blr    NaN    NaN    NaN  NaN      NaN  NaN\n",
      "Reliance    899.0  217.0  674.0  Pvt   1443.0  Mum    NaN    NaN    NaN  NaN      NaN  NaN\n",
      "BCCI        925.0  839.0  615.0  Pvt    154.0  Mum    NaN    NaN    NaN  NaN      NaN  NaN\n",
      "Birla       900.0  874.0  676.0  Pub   1379.0  Kol    NaN    NaN    NaN  NaN      NaN  NaN\n",
      "Flipkart    966.0  805.0  695.0  Pvt    119.0  Blr    NaN    NaN    NaN  NaN      NaN  NaN\n",
      "TSL         966.0  863.0  608.0  Pub   1656.0  Jmd    NaN    NaN    NaN  NaN      NaN  NaN\n",
      "IR          954.0  833.0  609.0  Gov  13023.0  NCR    NaN    NaN    NaN  NaN      NaN  NaN\n",
      "TCS           NaN    NaN    NaN  NaN      NaN  NaN  131.0  263.0  105.0  Pub   1935.0  Mum\n",
      "Infosys       NaN    NaN    NaN  NaN      NaN  NaN  199.0  217.0  174.0  Pub   1443.0  Blr\n",
      "ISL           NaN    NaN    NaN  NaN      NaN  NaN  125.0  239.0  115.0  Pvt    154.0  NCR\n",
      "Birlagroup    NaN    NaN    NaN  NaN      NaN  NaN  100.0  274.0  176.0  Pub   1379.0  Kol\n",
      "IBM           NaN    NaN    NaN  NaN      NaN  NaN  131.0  281.0  150.0  MNC   1361.0  NCR\n",
      "Microsoft     NaN    NaN    NaN  NaN      NaN  NaN  166.0  205.0  195.0  MNC    119.0  Hyd\n",
      "Leyland       NaN    NaN    NaN  NaN      NaN  NaN  166.0  263.0  108.0  Pub   1656.0  Che\n",
      "TI            NaN    NaN    NaN  NaN      NaN  NaN  154.0  233.0  109.0  MNC  13023.0  Blr\n"
     ]
    }
   ],
   "source": [
    "dfc = pd.concat([df1,df2],axis=1,join=\"outer\",sort=False)\n",
    "print(dfc)"
   ]
  },
  {
   "cell_type": "code",
   "execution_count": 34,
   "metadata": {},
   "outputs": [
    {
     "name": "stdout",
     "output_type": "stream",
     "text": [
      "     Vol  Rev  Exp Catg  EmpCnt   HQ  Vol  Rev  Expn  Grp  EmpCnt   HQ\n",
      "MRF  992  821  665  Pub    1154  Che  192  221   165  Pub    1154  Che\n"
     ]
    }
   ],
   "source": [
    "dfc = pd.concat([df1,df2], axis =1, join = 'inner',sort=False)\n",
    "print(dfc)"
   ]
  },
  {
   "cell_type": "code",
   "execution_count": 35,
   "metadata": {},
   "outputs": [
    {
     "name": "stdout",
     "output_type": "stream",
     "text": [
      "          Vol  Rev  Exp Catg  EmpCnt   HQ    Vol    Rev   Expn  Grp  EmpCnt   HQ\n",
      "HCL       931  863  605  Pub    1935  NCR    NaN    NaN    NaN  NaN     NaN  NaN\n",
      "MRF       992  821  665  Pub    1154  Che  192.0  221.0  165.0  Pub  1154.0  Che\n",
      "ISROACL   931  881  650  Gov    1361  Blr    NaN    NaN    NaN  NaN     NaN  NaN\n",
      "Reliance  899  217  674  Pvt    1443  Mum    NaN    NaN    NaN  NaN     NaN  NaN\n",
      "BCCI      925  839  615  Pvt     154  Mum    NaN    NaN    NaN  NaN     NaN  NaN\n",
      "Birla     900  874  676  Pub    1379  Kol    NaN    NaN    NaN  NaN     NaN  NaN\n",
      "Flipkart  966  805  695  Pvt     119  Blr    NaN    NaN    NaN  NaN     NaN  NaN\n",
      "TSL       966  863  608  Pub    1656  Jmd    NaN    NaN    NaN  NaN     NaN  NaN\n",
      "IR        954  833  609  Gov   13023  NCR    NaN    NaN    NaN  NaN     NaN  NaN\n"
     ]
    },
    {
     "data": {
      "text/plain": [
       "Index(['HCL', 'MRF', 'ISROACL', 'Reliance', 'BCCI', 'Birla', 'Flipkart', 'TSL', 'IR'], dtype='object')"
      ]
     },
     "execution_count": 35,
     "metadata": {},
     "output_type": "execute_result"
    }
   ],
   "source": [
    "dfk = pd.concat([df1,df2], axis = 1, join_axes=[df1.index],sort=False)\n",
    "print(dfk)\n",
    "dfk.index"
   ]
  },
  {
   "cell_type": "code",
   "execution_count": 39,
   "metadata": {},
   "outputs": [
    {
     "name": "stdout",
     "output_type": "stream",
     "text": [
      "           set1                                    set2                                \n",
      "            Vol    Rev    Exp Catg   EmpCnt   HQ    Vol    Rev   Expn  Grp  EmpCnt   HQ\n",
      "HCL       931.0  863.0  605.0  Pub   1935.0  NCR    NaN    NaN    NaN  NaN     NaN  NaN\n",
      "MRF       992.0  821.0  665.0  Pub   1154.0  Che  192.0  221.0  165.0  Pub  1154.0  Che\n",
      "ISROACL   931.0  881.0  650.0  Gov   1361.0  Blr    NaN    NaN    NaN  NaN     NaN  NaN\n",
      "Reliance  899.0  217.0  674.0  Pvt   1443.0  Mum    NaN    NaN    NaN  NaN     NaN  NaN\n",
      "BCCI      925.0  839.0  615.0  Pvt    154.0  Mum    NaN    NaN    NaN  NaN     NaN  NaN\n",
      "Birla     900.0  874.0  676.0  Pub   1379.0  Kol    NaN    NaN    NaN  NaN     NaN  NaN\n",
      "Flipkart  966.0  805.0  695.0  Pvt    119.0  Blr    NaN    NaN    NaN  NaN     NaN  NaN\n",
      "TSL       966.0  863.0  608.0  Pub   1656.0  Jmd    NaN    NaN    NaN  NaN     NaN  NaN\n",
      "IR        954.0  833.0  609.0  Gov  13023.0  NCR    NaN    NaN    NaN  NaN     NaN  NaN\n",
      "TCS         NaN    NaN    NaN  NaN      NaN  NaN  131.0  263.0  105.0  Pub  1935.0  Mum\n"
     ]
    }
   ],
   "source": [
    "dfk = pd.concat([df1,df2], axis = 1, join = 'outer', \n",
    "                keys=['set1', 'set2'], sort=False)\n",
    "\n",
    "print(dfk.head(10))"
   ]
  },
  {
   "cell_type": "code",
   "execution_count": 38,
   "metadata": {},
   "outputs": [
    {
     "data": {
      "text/plain": [
       "MultiIndex(levels=[['set1', 'set2'], ['Catg', 'EmpCnt', 'Exp', 'Expn', 'Grp', 'HQ', 'Rev', 'Vol']],\n",
       "           labels=[[0, 0, 0, 0, 0, 0, 1, 1, 1, 1, 1, 1], [7, 6, 2, 0, 1, 5, 7, 6, 3, 4, 1, 5]])"
      ]
     },
     "execution_count": 38,
     "metadata": {},
     "output_type": "execute_result"
    }
   ],
   "source": [
    "dfk.columns"
   ]
  },
  {
   "cell_type": "code",
   "execution_count": 42,
   "metadata": {},
   "outputs": [
    {
     "data": {
      "text/plain": [
       "set1  Vol    992\n",
       "set2  Vol    192\n",
       "Name: MRF, dtype: object"
      ]
     },
     "execution_count": 42,
     "metadata": {},
     "output_type": "execute_result"
    }
   ],
   "source": [
    "dfk.loc['MRF', [('set1','Vol'),('set2','Vol')]]"
   ]
  },
  {
   "cell_type": "code",
   "execution_count": null,
   "metadata": {},
   "outputs": [],
   "source": [
    "dfk.index"
   ]
  },
  {
   "cell_type": "code",
   "execution_count": null,
   "metadata": {},
   "outputs": [],
   "source": [
    "print(dfk.loc[[('set1','HCL'),('set2','TCS')],'Vol'])"
   ]
  },
  {
   "cell_type": "code",
   "execution_count": null,
   "metadata": {},
   "outputs": [],
   "source": []
  }
 ],
 "metadata": {
  "kernelspec": {
   "display_name": "Python 3",
   "language": "python",
   "name": "python3"
  },
  "language_info": {
   "codemirror_mode": {
    "name": "ipython",
    "version": 3
   },
   "file_extension": ".py",
   "mimetype": "text/x-python",
   "name": "python",
   "nbconvert_exporter": "python",
   "pygments_lexer": "ipython3",
   "version": "3.6.5"
  }
 },
 "nbformat": 4,
 "nbformat_minor": 2
}
