{
 "cells": [
  {
   "cell_type": "markdown",
   "metadata": {},
   "source": [
    "<span style=\"font-family: Arial; font-weight:bold;font-size:2em;color:#8707ff;\"> groupby() "
   ]
  },
  {
   "cell_type": "code",
   "execution_count": 1,
   "metadata": {},
   "outputs": [],
   "source": [
    "import pandas as pd\n",
    "import numpy as np\n",
    "pd.set_option(\"display.max_rows\", None)\n",
    "pd.set_option(\"display.max_columns\", None)\n",
    "pd.set_option('display.width', 1000)"
   ]
  },
  {
   "cell_type": "code",
   "execution_count": 2,
   "metadata": {},
   "outputs": [
    {
     "name": "stdout",
     "output_type": "stream",
     "text": [
      "          Vol  Rev  Exp Catg  EmpCnt   HQ\n",
      "HCL       992  863  605  Pub    1935  NCR\n",
      "MRF       992  821  665  Pub    1154  Che\n",
      "ISROACL   931  881  650  Gov    1361  Blr\n",
      "Reliance  899  217  674  Pub    1443  Mum\n",
      "BCCI      925  839  615  Pvt     154  Mum\n",
      "Birla     900  874  676  Pub    1379  Kol\n",
      "Flipkart  966  805  695  Pvt     119  Blr\n",
      "Apollo    966  863  608  Pub    1656  Che\n",
      "IR        954  833  609  Gov   13023  NCR\n"
     ]
    }
   ],
   "source": [
    "df = pd.read_csv(\"profit.csv\")\n",
    "print(df)"
   ]
  },
  {
   "cell_type": "code",
   "execution_count": 3,
   "metadata": {},
   "outputs": [],
   "source": [
    "dfg = df.groupby(['Catg']) "
   ]
  },
  {
   "cell_type": "code",
   "execution_count": 4,
   "metadata": {},
   "outputs": [
    {
     "data": {
      "text/html": [
       "<div>\n",
       "<style scoped>\n",
       "    .dataframe tbody tr th:only-of-type {\n",
       "        vertical-align: middle;\n",
       "    }\n",
       "\n",
       "    .dataframe tbody tr th {\n",
       "        vertical-align: top;\n",
       "    }\n",
       "\n",
       "    .dataframe thead tr th {\n",
       "        text-align: left;\n",
       "    }\n",
       "\n",
       "    .dataframe thead tr:last-of-type th {\n",
       "        text-align: right;\n",
       "    }\n",
       "</style>\n",
       "<table border=\"1\" class=\"dataframe\">\n",
       "  <thead>\n",
       "    <tr>\n",
       "      <th></th>\n",
       "      <th colspan=\"8\" halign=\"left\">Vol</th>\n",
       "      <th colspan=\"8\" halign=\"left\">Rev</th>\n",
       "      <th colspan=\"8\" halign=\"left\">Exp</th>\n",
       "      <th colspan=\"8\" halign=\"left\">EmpCnt</th>\n",
       "    </tr>\n",
       "    <tr>\n",
       "      <th></th>\n",
       "      <th>count</th>\n",
       "      <th>mean</th>\n",
       "      <th>std</th>\n",
       "      <th>min</th>\n",
       "      <th>25%</th>\n",
       "      <th>50%</th>\n",
       "      <th>75%</th>\n",
       "      <th>max</th>\n",
       "      <th>count</th>\n",
       "      <th>mean</th>\n",
       "      <th>std</th>\n",
       "      <th>min</th>\n",
       "      <th>25%</th>\n",
       "      <th>50%</th>\n",
       "      <th>75%</th>\n",
       "      <th>max</th>\n",
       "      <th>count</th>\n",
       "      <th>mean</th>\n",
       "      <th>std</th>\n",
       "      <th>min</th>\n",
       "      <th>25%</th>\n",
       "      <th>50%</th>\n",
       "      <th>75%</th>\n",
       "      <th>max</th>\n",
       "      <th>count</th>\n",
       "      <th>mean</th>\n",
       "      <th>std</th>\n",
       "      <th>min</th>\n",
       "      <th>25%</th>\n",
       "      <th>50%</th>\n",
       "      <th>75%</th>\n",
       "      <th>max</th>\n",
       "    </tr>\n",
       "    <tr>\n",
       "      <th>Catg</th>\n",
       "      <th></th>\n",
       "      <th></th>\n",
       "      <th></th>\n",
       "      <th></th>\n",
       "      <th></th>\n",
       "      <th></th>\n",
       "      <th></th>\n",
       "      <th></th>\n",
       "      <th></th>\n",
       "      <th></th>\n",
       "      <th></th>\n",
       "      <th></th>\n",
       "      <th></th>\n",
       "      <th></th>\n",
       "      <th></th>\n",
       "      <th></th>\n",
       "      <th></th>\n",
       "      <th></th>\n",
       "      <th></th>\n",
       "      <th></th>\n",
       "      <th></th>\n",
       "      <th></th>\n",
       "      <th></th>\n",
       "      <th></th>\n",
       "      <th></th>\n",
       "      <th></th>\n",
       "      <th></th>\n",
       "      <th></th>\n",
       "      <th></th>\n",
       "      <th></th>\n",
       "      <th></th>\n",
       "      <th></th>\n",
       "    </tr>\n",
       "  </thead>\n",
       "  <tbody>\n",
       "    <tr>\n",
       "      <th>Gov</th>\n",
       "      <td>2.0</td>\n",
       "      <td>942.5</td>\n",
       "      <td>16.263456</td>\n",
       "      <td>931.0</td>\n",
       "      <td>936.75</td>\n",
       "      <td>942.5</td>\n",
       "      <td>948.25</td>\n",
       "      <td>954.0</td>\n",
       "      <td>2.0</td>\n",
       "      <td>857.0</td>\n",
       "      <td>33.941125</td>\n",
       "      <td>833.0</td>\n",
       "      <td>845.0</td>\n",
       "      <td>857.0</td>\n",
       "      <td>869.0</td>\n",
       "      <td>881.0</td>\n",
       "      <td>2.0</td>\n",
       "      <td>629.5</td>\n",
       "      <td>28.991378</td>\n",
       "      <td>609.0</td>\n",
       "      <td>619.25</td>\n",
       "      <td>629.5</td>\n",
       "      <td>639.75</td>\n",
       "      <td>650.0</td>\n",
       "      <td>2.0</td>\n",
       "      <td>7192.0</td>\n",
       "      <td>8246.279282</td>\n",
       "      <td>1361.0</td>\n",
       "      <td>4276.50</td>\n",
       "      <td>7192.0</td>\n",
       "      <td>10107.50</td>\n",
       "      <td>13023.0</td>\n",
       "    </tr>\n",
       "    <tr>\n",
       "      <th>Pub</th>\n",
       "      <td>5.0</td>\n",
       "      <td>949.8</td>\n",
       "      <td>47.129609</td>\n",
       "      <td>899.0</td>\n",
       "      <td>900.00</td>\n",
       "      <td>966.0</td>\n",
       "      <td>992.00</td>\n",
       "      <td>992.0</td>\n",
       "      <td>5.0</td>\n",
       "      <td>727.6</td>\n",
       "      <td>286.153455</td>\n",
       "      <td>217.0</td>\n",
       "      <td>821.0</td>\n",
       "      <td>863.0</td>\n",
       "      <td>863.0</td>\n",
       "      <td>874.0</td>\n",
       "      <td>5.0</td>\n",
       "      <td>645.6</td>\n",
       "      <td>35.948574</td>\n",
       "      <td>605.0</td>\n",
       "      <td>608.00</td>\n",
       "      <td>665.0</td>\n",
       "      <td>674.00</td>\n",
       "      <td>676.0</td>\n",
       "      <td>5.0</td>\n",
       "      <td>1513.4</td>\n",
       "      <td>295.917725</td>\n",
       "      <td>1154.0</td>\n",
       "      <td>1379.00</td>\n",
       "      <td>1443.0</td>\n",
       "      <td>1656.00</td>\n",
       "      <td>1935.0</td>\n",
       "    </tr>\n",
       "    <tr>\n",
       "      <th>Pvt</th>\n",
       "      <td>2.0</td>\n",
       "      <td>945.5</td>\n",
       "      <td>28.991378</td>\n",
       "      <td>925.0</td>\n",
       "      <td>935.25</td>\n",
       "      <td>945.5</td>\n",
       "      <td>955.75</td>\n",
       "      <td>966.0</td>\n",
       "      <td>2.0</td>\n",
       "      <td>822.0</td>\n",
       "      <td>24.041631</td>\n",
       "      <td>805.0</td>\n",
       "      <td>813.5</td>\n",
       "      <td>822.0</td>\n",
       "      <td>830.5</td>\n",
       "      <td>839.0</td>\n",
       "      <td>2.0</td>\n",
       "      <td>655.0</td>\n",
       "      <td>56.568542</td>\n",
       "      <td>615.0</td>\n",
       "      <td>635.00</td>\n",
       "      <td>655.0</td>\n",
       "      <td>675.00</td>\n",
       "      <td>695.0</td>\n",
       "      <td>2.0</td>\n",
       "      <td>136.5</td>\n",
       "      <td>24.748737</td>\n",
       "      <td>119.0</td>\n",
       "      <td>127.75</td>\n",
       "      <td>136.5</td>\n",
       "      <td>145.25</td>\n",
       "      <td>154.0</td>\n",
       "    </tr>\n",
       "  </tbody>\n",
       "</table>\n",
       "</div>"
      ],
      "text/plain": [
       "       Vol                                                          Rev                                                         Exp                                                        EmpCnt                                                                 \n",
       "     count   mean        std    min     25%    50%     75%    max count   mean         std    min    25%    50%    75%    max count   mean        std    min     25%    50%     75%    max  count    mean          std     min      25%     50%       75%      max\n",
       "Catg                                                                                                                                                                                                                                                              \n",
       "Gov    2.0  942.5  16.263456  931.0  936.75  942.5  948.25  954.0   2.0  857.0   33.941125  833.0  845.0  857.0  869.0  881.0   2.0  629.5  28.991378  609.0  619.25  629.5  639.75  650.0    2.0  7192.0  8246.279282  1361.0  4276.50  7192.0  10107.50  13023.0\n",
       "Pub    5.0  949.8  47.129609  899.0  900.00  966.0  992.00  992.0   5.0  727.6  286.153455  217.0  821.0  863.0  863.0  874.0   5.0  645.6  35.948574  605.0  608.00  665.0  674.00  676.0    5.0  1513.4   295.917725  1154.0  1379.00  1443.0   1656.00   1935.0\n",
       "Pvt    2.0  945.5  28.991378  925.0  935.25  945.5  955.75  966.0   2.0  822.0   24.041631  805.0  813.5  822.0  830.5  839.0   2.0  655.0  56.568542  615.0  635.00  655.0  675.00  695.0    2.0   136.5    24.748737   119.0   127.75   136.5    145.25    154.0"
      ]
     },
     "execution_count": 4,
     "metadata": {},
     "output_type": "execute_result"
    }
   ],
   "source": [
    "dfg.describe()"
   ]
  },
  {
   "cell_type": "code",
   "execution_count": 5,
   "metadata": {},
   "outputs": [
    {
     "data": {
      "text/html": [
       "<div>\n",
       "<style scoped>\n",
       "    .dataframe tbody tr th:only-of-type {\n",
       "        vertical-align: middle;\n",
       "    }\n",
       "\n",
       "    .dataframe tbody tr th {\n",
       "        vertical-align: top;\n",
       "    }\n",
       "\n",
       "    .dataframe thead th {\n",
       "        text-align: right;\n",
       "    }\n",
       "</style>\n",
       "<table border=\"1\" class=\"dataframe\">\n",
       "  <thead>\n",
       "    <tr style=\"text-align: right;\">\n",
       "      <th></th>\n",
       "      <th>count</th>\n",
       "      <th>mean</th>\n",
       "      <th>std</th>\n",
       "      <th>min</th>\n",
       "      <th>25%</th>\n",
       "      <th>50%</th>\n",
       "      <th>75%</th>\n",
       "      <th>max</th>\n",
       "    </tr>\n",
       "    <tr>\n",
       "      <th>Catg</th>\n",
       "      <th></th>\n",
       "      <th></th>\n",
       "      <th></th>\n",
       "      <th></th>\n",
       "      <th></th>\n",
       "      <th></th>\n",
       "      <th></th>\n",
       "      <th></th>\n",
       "    </tr>\n",
       "  </thead>\n",
       "  <tbody>\n",
       "    <tr>\n",
       "      <th>Gov</th>\n",
       "      <td>2.0</td>\n",
       "      <td>942.5</td>\n",
       "      <td>16.263456</td>\n",
       "      <td>931.0</td>\n",
       "      <td>936.75</td>\n",
       "      <td>942.5</td>\n",
       "      <td>948.25</td>\n",
       "      <td>954.0</td>\n",
       "    </tr>\n",
       "    <tr>\n",
       "      <th>Pub</th>\n",
       "      <td>5.0</td>\n",
       "      <td>949.8</td>\n",
       "      <td>47.129609</td>\n",
       "      <td>899.0</td>\n",
       "      <td>900.00</td>\n",
       "      <td>966.0</td>\n",
       "      <td>992.00</td>\n",
       "      <td>992.0</td>\n",
       "    </tr>\n",
       "    <tr>\n",
       "      <th>Pvt</th>\n",
       "      <td>2.0</td>\n",
       "      <td>945.5</td>\n",
       "      <td>28.991378</td>\n",
       "      <td>925.0</td>\n",
       "      <td>935.25</td>\n",
       "      <td>945.5</td>\n",
       "      <td>955.75</td>\n",
       "      <td>966.0</td>\n",
       "    </tr>\n",
       "  </tbody>\n",
       "</table>\n",
       "</div>"
      ],
      "text/plain": [
       "      count   mean        std    min     25%    50%     75%    max\n",
       "Catg                                                              \n",
       "Gov     2.0  942.5  16.263456  931.0  936.75  942.5  948.25  954.0\n",
       "Pub     5.0  949.8  47.129609  899.0  900.00  966.0  992.00  992.0\n",
       "Pvt     2.0  945.5  28.991378  925.0  935.25  945.5  955.75  966.0"
      ]
     },
     "execution_count": 5,
     "metadata": {},
     "output_type": "execute_result"
    }
   ],
   "source": [
    "dfg['Vol'].describe()"
   ]
  },
  {
   "cell_type": "code",
   "execution_count": 6,
   "metadata": {},
   "outputs": [
    {
     "data": {
      "text/html": [
       "<div>\n",
       "<style scoped>\n",
       "    .dataframe tbody tr th:only-of-type {\n",
       "        vertical-align: middle;\n",
       "    }\n",
       "\n",
       "    .dataframe tbody tr th {\n",
       "        vertical-align: top;\n",
       "    }\n",
       "\n",
       "    .dataframe thead th {\n",
       "        text-align: right;\n",
       "    }\n",
       "</style>\n",
       "<table border=\"1\" class=\"dataframe\">\n",
       "  <thead>\n",
       "    <tr style=\"text-align: right;\">\n",
       "      <th></th>\n",
       "      <th>Vol</th>\n",
       "      <th>Rev</th>\n",
       "      <th>Exp</th>\n",
       "      <th>EmpCnt</th>\n",
       "      <th>HQ</th>\n",
       "    </tr>\n",
       "    <tr>\n",
       "      <th>Catg</th>\n",
       "      <th></th>\n",
       "      <th></th>\n",
       "      <th></th>\n",
       "      <th></th>\n",
       "      <th></th>\n",
       "    </tr>\n",
       "  </thead>\n",
       "  <tbody>\n",
       "    <tr>\n",
       "      <th>Gov</th>\n",
       "      <td>931</td>\n",
       "      <td>881</td>\n",
       "      <td>650</td>\n",
       "      <td>1361</td>\n",
       "      <td>Blr</td>\n",
       "    </tr>\n",
       "    <tr>\n",
       "      <th>Pub</th>\n",
       "      <td>992</td>\n",
       "      <td>863</td>\n",
       "      <td>605</td>\n",
       "      <td>1935</td>\n",
       "      <td>NCR</td>\n",
       "    </tr>\n",
       "    <tr>\n",
       "      <th>Pvt</th>\n",
       "      <td>925</td>\n",
       "      <td>839</td>\n",
       "      <td>615</td>\n",
       "      <td>154</td>\n",
       "      <td>Mum</td>\n",
       "    </tr>\n",
       "  </tbody>\n",
       "</table>\n",
       "</div>"
      ],
      "text/plain": [
       "      Vol  Rev  Exp  EmpCnt   HQ\n",
       "Catg                            \n",
       "Gov   931  881  650    1361  Blr\n",
       "Pub   992  863  605    1935  NCR\n",
       "Pvt   925  839  615     154  Mum"
      ]
     },
     "execution_count": 6,
     "metadata": {},
     "output_type": "execute_result"
    }
   ],
   "source": [
    "dfg.first() "
   ]
  },
  {
   "cell_type": "code",
   "execution_count": 7,
   "metadata": {},
   "outputs": [
    {
     "data": {
      "text/html": [
       "<div>\n",
       "<style scoped>\n",
       "    .dataframe tbody tr th:only-of-type {\n",
       "        vertical-align: middle;\n",
       "    }\n",
       "\n",
       "    .dataframe tbody tr th {\n",
       "        vertical-align: top;\n",
       "    }\n",
       "\n",
       "    .dataframe thead th {\n",
       "        text-align: right;\n",
       "    }\n",
       "</style>\n",
       "<table border=\"1\" class=\"dataframe\">\n",
       "  <thead>\n",
       "    <tr style=\"text-align: right;\">\n",
       "      <th></th>\n",
       "      <th>Vol</th>\n",
       "      <th>Rev</th>\n",
       "      <th>Exp</th>\n",
       "      <th>EmpCnt</th>\n",
       "    </tr>\n",
       "    <tr>\n",
       "      <th>Catg</th>\n",
       "      <th></th>\n",
       "      <th></th>\n",
       "      <th></th>\n",
       "      <th></th>\n",
       "    </tr>\n",
       "  </thead>\n",
       "  <tbody>\n",
       "    <tr>\n",
       "      <th>Gov</th>\n",
       "      <td>942.5</td>\n",
       "      <td>857.0</td>\n",
       "      <td>629.5</td>\n",
       "      <td>7192.0</td>\n",
       "    </tr>\n",
       "    <tr>\n",
       "      <th>Pub</th>\n",
       "      <td>949.8</td>\n",
       "      <td>727.6</td>\n",
       "      <td>645.6</td>\n",
       "      <td>1513.4</td>\n",
       "    </tr>\n",
       "    <tr>\n",
       "      <th>Pvt</th>\n",
       "      <td>945.5</td>\n",
       "      <td>822.0</td>\n",
       "      <td>655.0</td>\n",
       "      <td>136.5</td>\n",
       "    </tr>\n",
       "  </tbody>\n",
       "</table>\n",
       "</div>"
      ],
      "text/plain": [
       "        Vol    Rev    Exp  EmpCnt\n",
       "Catg                             \n",
       "Gov   942.5  857.0  629.5  7192.0\n",
       "Pub   949.8  727.6  645.6  1513.4\n",
       "Pvt   945.5  822.0  655.0   136.5"
      ]
     },
     "execution_count": 7,
     "metadata": {},
     "output_type": "execute_result"
    }
   ],
   "source": [
    "df.groupby('Catg').mean()"
   ]
  },
  {
   "cell_type": "code",
   "execution_count": 8,
   "metadata": {},
   "outputs": [
    {
     "data": {
      "text/plain": [
       "Catg\n",
       "Gov    857.0\n",
       "Pub    727.6\n",
       "Pvt    822.0\n",
       "Name: Rev, dtype: float64"
      ]
     },
     "execution_count": 8,
     "metadata": {},
     "output_type": "execute_result"
    }
   ],
   "source": [
    "df.groupby('Catg').mean()['Rev']"
   ]
  },
  {
   "cell_type": "code",
   "execution_count": 9,
   "metadata": {},
   "outputs": [],
   "source": [
    "dfg = df.groupby(['Catg', 'HQ']) "
   ]
  },
  {
   "cell_type": "code",
   "execution_count": 10,
   "metadata": {},
   "outputs": [
    {
     "name": "stdout",
     "output_type": "stream",
     "text": [
      "            Vol    Rev    Exp   EmpCnt\n",
      "Catg HQ                               \n",
      "Gov  Blr  931.0  881.0  650.0   1361.0\n",
      "     NCR  954.0  833.0  609.0  13023.0\n",
      "Pub  Che  979.0  842.0  636.5   1405.0\n",
      "     Kol  900.0  874.0  676.0   1379.0\n",
      "     Mum  899.0  217.0  674.0   1443.0\n",
      "     NCR  992.0  863.0  605.0   1935.0\n",
      "Pvt  Blr  966.0  805.0  695.0    119.0\n",
      "     Mum  925.0  839.0  615.0    154.0\n"
     ]
    }
   ],
   "source": [
    "dfg = df.groupby(['Catg', 'HQ']).mean()\n",
    "print(dfg)"
   ]
  },
  {
   "cell_type": "code",
   "execution_count": 11,
   "metadata": {},
   "outputs": [
    {
     "name": "stdout",
     "output_type": "stream",
     "text": [
      "          Vol       Rev       Exp      EmpCnt       \n",
      "          min  max  min  max  min  max    min    max\n",
      "Catg HQ                                             \n",
      "Gov  Blr  931  931  881  881  650  650   1361   1361\n",
      "     NCR  954  954  833  833  609  609  13023  13023\n",
      "Pub  Che  966  992  821  863  608  665   1154   1656\n",
      "     Kol  900  900  874  874  676  676   1379   1379\n",
      "     Mum  899  899  217  217  674  674   1443   1443\n",
      "     NCR  992  992  863  863  605  605   1935   1935\n",
      "Pvt  Blr  966  966  805  805  695  695    119    119\n",
      "     Mum  925  925  839  839  615  615    154    154\n"
     ]
    }
   ],
   "source": [
    "gdf = df.groupby(['Catg', 'HQ']).agg(['min', 'max'])\n",
    "print(gdf)"
   ]
  },
  {
   "cell_type": "code",
   "execution_count": 12,
   "metadata": {},
   "outputs": [
    {
     "name": "stdout",
     "output_type": "stream",
     "text": [
      "        Vol    Rev    Exp  EmpCnt\n",
      "Catg                             \n",
      "Gov   942.5  857.0  629.5  7192.0\n",
      "Pub   949.8  727.6  645.6  1513.4\n",
      "Pvt   945.5  822.0  655.0   136.5\n"
     ]
    }
   ],
   "source": [
    "mndf = df.groupby('Catg').apply(np.mean)\n",
    "print(mndf)"
   ]
  },
  {
   "cell_type": "code",
   "execution_count": 13,
   "metadata": {},
   "outputs": [],
   "source": [
    "def userfn_minmaxdiff(temp):\n",
    "    x = temp.max()-temp.min()\n",
    "    return x"
   ]
  },
  {
   "cell_type": "code",
   "execution_count": 14,
   "metadata": {},
   "outputs": [
    {
     "name": "stdout",
     "output_type": "stream",
     "text": [
      "      Vol  Rev  Exp\n",
      "Catg               \n",
      "Gov    23   48   41\n",
      "Pub    93  657   71\n",
      "Pvt    41   34   80\n"
     ]
    }
   ],
   "source": [
    "#print(df)\n",
    "udf = df.groupby('Catg')['Vol','Rev','Exp'].apply(userfn_minmaxdiff)\n",
    "print(udf)"
   ]
  },
  {
   "cell_type": "code",
   "execution_count": null,
   "metadata": {},
   "outputs": [],
   "source": []
  }
 ],
 "metadata": {
  "kernelspec": {
   "display_name": "Python 3",
   "language": "python",
   "name": "python3"
  },
  "language_info": {
   "codemirror_mode": {
    "name": "ipython",
    "version": 3
   },
   "file_extension": ".py",
   "mimetype": "text/x-python",
   "name": "python",
   "nbconvert_exporter": "python",
   "pygments_lexer": "ipython3",
   "version": "3.7.3"
  }
 },
 "nbformat": 4,
 "nbformat_minor": 2
}
