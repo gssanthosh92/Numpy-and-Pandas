{
 "cells": [
  {
   "cell_type": "code",
   "execution_count": null,
   "metadata": {},
   "outputs": [],
   "source": [
    "import pandas as pd"
   ]
  },
  {
   "cell_type": "code",
   "execution_count": null,
   "metadata": {},
   "outputs": [],
   "source": [
    "df = pd.read_csv('profit.csv')\n",
    "print(df)"
   ]
  },
  {
   "cell_type": "code",
   "execution_count": null,
   "metadata": {},
   "outputs": [],
   "source": [
    "city2state = {'NCR':'Delhi', 'Che':'TamilNadu', 'Blr':'Karnataka', \n",
    "              'Mum':'Maharashtra','Kol':'WestBengal','Jmd':'Jharkhand'}\n",
    "print(city2state)"
   ]
  },
  {
   "cell_type": "code",
   "execution_count": 8,
   "metadata": {},
   "outputs": [
    {
     "name": "stdout",
     "output_type": "stream",
     "text": [
      "          Vol  Rev  Exp Catg  EmpCnt   HQ        State\n",
      "HCL       931  863  605  Pub    1935  NCR        Delhi\n",
      "MRF       992  821  665  Pub    1154  Che    TamilNadu\n",
      "ISROACL   931  881  650  Gov    1361  Blr    Karnataka\n",
      "Reliance  899  217  674  Pvt    1443  Mum  Maharashtra\n",
      "BCCI      925  839  615  Pvt     154  Mum  Maharashtra\n",
      "Birla     900  874  676  Pub    1379  Kol   WestBengal\n",
      "Flipkart  966  805  695  Pvt     119  Blr    Karnataka\n",
      "Apollo    966  863  608  Pub    1656  Jmd    Jharkhand\n",
      "IR        954  833  609  Gov   13023  NCR        Delhi\n"
     ]
    }
   ],
   "source": [
    "df['State']=df['HQ'].map(city2state)\n",
    "print(df)"
   ]
  },
  {
   "cell_type": "code",
   "execution_count": null,
   "metadata": {},
   "outputs": [],
   "source": []
  }
 ],
 "metadata": {
  "kernelspec": {
   "display_name": "Python 3",
   "language": "python",
   "name": "python3"
  },
  "language_info": {
   "codemirror_mode": {
    "name": "ipython",
    "version": 3
   },
   "file_extension": ".py",
   "mimetype": "text/x-python",
   "name": "python",
   "nbconvert_exporter": "python",
   "pygments_lexer": "ipython3",
   "version": "3.6.5"
  }
 },
 "nbformat": 4,
 "nbformat_minor": 2
}
