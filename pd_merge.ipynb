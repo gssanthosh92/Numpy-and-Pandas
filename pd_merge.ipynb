{
 "cells": [
  {
   "cell_type": "markdown",
   "metadata": {},
   "source": [
    "# Merge function"
   ]
  },
  {
   "cell_type": "code",
   "execution_count": 20,
   "metadata": {},
   "outputs": [
    {
     "name": "stdout",
     "output_type": "stream",
     "text": [
      "       emp   dept location\n",
      "0     anil  admin      blr\n",
      "1     raju    eng      che\n",
      "2    sunil    eng      blr\n",
      "3  sandeep     hr      che\n",
      "\n",
      "       emp  start location1\n",
      "0    vijay   2004       che\n",
      "1    sunil   2008       blr\n",
      "2   sachin   2012       mum\n",
      "3  sandeep   2014       blr\n"
     ]
    }
   ],
   "source": [
    "import pandas as pd\n",
    "\n",
    "\n",
    "df1 = pd.read_csv(\"empdata11.csv\")\n",
    "df2 = pd.read_csv(\"empdata12.csv\")\n",
    "\n",
    "\n",
    "print(df1); print(); print(df2)\n",
    "pd.set_option(\"display.max_rows\", None)\n",
    "pd.set_option(\"display.max_columns\", None)\n",
    "pd.set_option('display.width', 1000)"
   ]
  },
  {
   "cell_type": "code",
   "execution_count": 2,
   "metadata": {},
   "outputs": [
    {
     "name": "stdout",
     "output_type": "stream",
     "text": [
      "       emp dept location  start location1\n",
      "0    sunil  eng      blr   2008       blr\n",
      "1  sandeep   hr      del   2014       pun\n"
     ]
    }
   ],
   "source": [
    "#print(df1); print(); print(df2); print()\n",
    "dfc = pd.merge(df1,df2,on='emp',how='inner')\n",
    "print(dfc)"
   ]
  },
  {
   "cell_type": "code",
   "execution_count": 4,
   "metadata": {},
   "outputs": [
    {
     "name": "stdout",
     "output_type": "stream",
     "text": [
      "       emp   dept location   start location1      _merge\n",
      "0     anil  admin      blr     NaN       NaN   left_only\n",
      "1     raju    eng      hyd     NaN       NaN   left_only\n",
      "2    sunil    eng      blr  2008.0       blr        both\n",
      "3  sandeep     hr      del  2014.0       pun        both\n",
      "4    vijay    NaN      NaN  2004.0       che  right_only\n",
      "5   sachin    NaN      NaN  2012.0       mum  right_only\n"
     ]
    }
   ],
   "source": [
    "#print(df1); print(); print(df2); print()\n",
    "dfc = pd.merge(df1,df2, on='emp',how='outer',indicator=True)\n",
    "print(dfc)"
   ]
  },
  {
   "cell_type": "code",
   "execution_count": 5,
   "metadata": {},
   "outputs": [
    {
     "name": "stdout",
     "output_type": "stream",
     "text": [
      "       emp   dept location   start location1     _merge\n",
      "0     anil  admin      blr     NaN       NaN  left_only\n",
      "1     raju    eng      hyd     NaN       NaN  left_only\n",
      "2    sunil    eng      blr  2008.0       blr       both\n",
      "3  sandeep     hr      del  2014.0       pun       both\n"
     ]
    }
   ],
   "source": [
    "#print(df1); print(); print(df2); print()\n",
    "dfc = pd.merge(df1,df2, on='emp',how='left',indicator=True)\n",
    "print(dfc)"
   ]
  },
  {
   "cell_type": "code",
   "execution_count": 10,
   "metadata": {},
   "outputs": [
    {
     "name": "stdout",
     "output_type": "stream",
     "text": [
      "       emp dept location  start location1      _merge\n",
      "0    sunil  eng      blr   2008       blr        both\n",
      "1  sandeep   hr      del   2014       pun        both\n",
      "2    vijay  NaN      NaN   2004       che  right_only\n",
      "3   sachin  NaN      NaN   2012       mum  right_only\n"
     ]
    }
   ],
   "source": [
    "#print(df1); print(); print(df2); print()\n",
    "dfc = pd.merge(df1,df2, on='emp',how='right',indicator=True)\n",
    "print(dfc)"
   ]
  },
  {
   "cell_type": "code",
   "execution_count": 21,
   "metadata": {},
   "outputs": [
    {
     "name": "stdout",
     "output_type": "stream",
     "text": [
      "       emp   dept location\n",
      "0     anil  admin      blr\n",
      "1     raju    eng      che\n",
      "2    sunil    eng      blr\n",
      "3  sandeep     hr      che\n",
      "\n",
      "       emp  start location1\n",
      "0    vijay   2004       che\n",
      "1    sunil   2008       blr\n",
      "2   sachin   2012       mum\n",
      "3  sandeep   2014       blr\n",
      "\n",
      "     emp_x   dept location    emp_y  start location1 _merge\n",
      "0     anil  admin      blr    sunil   2008       blr   both\n",
      "1     anil  admin      blr  sandeep   2014       blr   both\n",
      "2    sunil    eng      blr    sunil   2008       blr   both\n",
      "3    sunil    eng      blr  sandeep   2014       blr   both\n",
      "4     raju    eng      che    vijay   2004       che   both\n",
      "5  sandeep     hr      che    vijay   2004       che   both\n"
     ]
    }
   ],
   "source": [
    "print(df1); print(); print(df2); print()\n",
    "dfi = pd.merge(df1, df2, left_on='location',right_on='location1',how='inner',indicator=True)#,suffixes=('_left', '_right'))\n",
    "print(dfi)"
   ]
  },
  {
   "cell_type": "code",
   "execution_count": 19,
   "metadata": {},
   "outputs": [
    {
     "name": "stdout",
     "output_type": "stream",
     "text": [
      "       emp   dept location\n",
      "0     anil  admin      blr\n",
      "1     raju    eng      hyd\n",
      "2    sunil    eng      blr\n",
      "3  sandeep     hr      del\n",
      "\n",
      "       emp  start location1\n",
      "0    vijay   2004       che\n",
      "1    sunil   2008       blr\n",
      "2   sachin   2012       mum\n",
      "3  sandeep   2014       blr\n",
      "\n",
      "     emp_x   dept location    emp_y   start location1      _merge\n",
      "0     anil  admin      blr    sunil  2008.0       blr        both\n",
      "1     anil  admin      blr  sandeep  2014.0       blr        both\n",
      "2    sunil    eng      blr    sunil  2008.0       blr        both\n",
      "3    sunil    eng      blr  sandeep  2014.0       blr        both\n",
      "4     raju    eng      hyd      NaN     NaN       NaN   left_only\n",
      "5  sandeep     hr      del      NaN     NaN       NaN   left_only\n",
      "6      NaN    NaN      NaN    vijay  2004.0       che  right_only\n",
      "7      NaN    NaN      NaN   sachin  2012.0       mum  right_only\n"
     ]
    }
   ],
   "source": [
    "print(df1); print(); print(df2); print()\n",
    "dfi = pd.merge(df1, df2, left_on='location',right_on='location1',how='outer',indicator=True)\n",
    "print(dfi)"
   ]
  },
  {
   "cell_type": "code",
   "execution_count": null,
   "metadata": {},
   "outputs": [],
   "source": []
  }
 ],
 "metadata": {
  "kernelspec": {
   "display_name": "Python 3",
   "language": "python",
   "name": "python3"
  },
  "language_info": {
   "codemirror_mode": {
    "name": "ipython",
    "version": 3
   },
   "file_extension": ".py",
   "mimetype": "text/x-python",
   "name": "python",
   "nbconvert_exporter": "python",
   "pygments_lexer": "ipython3",
   "version": "3.6.5"
  }
 },
 "nbformat": 4,
 "nbformat_minor": 2
}
