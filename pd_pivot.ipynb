{
 "cells": [
  {
   "cell_type": "markdown",
   "metadata": {},
   "source": [
    "# Pivot Table"
   ]
  },
  {
   "cell_type": "code",
   "execution_count": null,
   "metadata": {},
   "outputs": [],
   "source": [
    "import pandas as pd\n",
    "import numpy as np"
   ]
  },
  {
   "cell_type": "code",
   "execution_count": 13,
   "metadata": {},
   "outputs": [
    {
     "name": "stdout",
     "output_type": "stream",
     "text": [
      "          Vol  Rev  Exp Catg  EmpCnt   HQ\n",
      "HCL       931  863  605  Pub    1935  NCR\n",
      "MRF       992  821  665  Pub    1154  Che\n",
      "ISROACL   931  881  650  Gov    1361  Blr\n",
      "Reliance  899  217  674  Pvt    1443  Mum\n",
      "BCCI      925  839  615  Pvt     154  Mum\n",
      "Birla     900  874  676  Pub    1379  Kol\n",
      "Flipkart  966  805  695  Pvt     119  Blr\n",
      "Apollo    966  863  608  Pub    1656  Jmd\n",
      "IR        954  833  609  Gov   13023  NCR\n"
     ]
    }
   ],
   "source": [
    "df = pd.read_csv(\"profit.csv\")\n",
    "print(df)"
   ]
  },
  {
   "cell_type": "code",
   "execution_count": null,
   "metadata": {},
   "outputs": [],
   "source": [
    "df2 = pd.pivot_table(df, index=['HQ'], aggfunc='mean')\n",
    "print(df2)\n",
    "print(type(df2))\n",
    "print(df2.index)"
   ]
  },
  {
   "cell_type": "code",
   "execution_count": null,
   "metadata": {},
   "outputs": [],
   "source": [
    "df2 = pd.pivot_table(df, index=['Catg'], aggfunc='sum')\n",
    "print(df2)"
   ]
  },
  {
   "cell_type": "code",
   "execution_count": null,
   "metadata": {},
   "outputs": [],
   "source": [
    "df2 = pd.pivot_table(df, index=['Catg','HQ'], aggfunc='sum')\n",
    "print(df2)"
   ]
  },
  {
   "cell_type": "code",
   "execution_count": null,
   "metadata": {},
   "outputs": [],
   "source": [
    "df2.index"
   ]
  },
  {
   "cell_type": "code",
   "execution_count": null,
   "metadata": {},
   "outputs": [],
   "source": [
    "#print(df)\n",
    "df2 = pd.pivot_table(df, index=['Catg','HQ'], aggfunc=[np.sum, np.mean])\n",
    "print(df2)"
   ]
  },
  {
   "cell_type": "code",
   "execution_count": null,
   "metadata": {},
   "outputs": [],
   "source": [
    "print(df)\n",
    "df2 = pd.pivot_table(df, index=['Catg','HQ'], aggfunc=[np.sum, np.mean,lambda x : x//2])\n",
    "print(df2)"
   ]
  },
  {
   "cell_type": "code",
   "execution_count": 14,
   "metadata": {},
   "outputs": [
    {
     "name": "stdout",
     "output_type": "stream",
     "text": [
      "        Rev                                       Vol                       \\\n",
      "HQ      Blr    Che    Jmd    Kol    Mum    NCR    Blr    Che    Jmd    Kol   \n",
      "Catg                                                                         \n",
      "Gov   881.0    NaN    NaN    NaN    NaN  833.0  931.0    NaN    NaN    NaN   \n",
      "Pub     NaN  821.0  863.0  874.0    NaN  863.0    NaN  992.0  966.0  900.0   \n",
      "Pvt   805.0    NaN    NaN    NaN  528.0    NaN  966.0    NaN    NaN    NaN   \n",
      "\n",
      "                    \n",
      "HQ      Mum    NCR  \n",
      "Catg                \n",
      "Gov     NaN  954.0  \n",
      "Pub     NaN  931.0  \n",
      "Pvt   912.0    NaN  \n"
     ]
    }
   ],
   "source": [
    "#print(df)\n",
    "df3 = df.pivot_table(index='Catg',columns = 'HQ',values=['Rev','Vol'], aggfunc='mean')\n",
    "print(df3)"
   ]
  }
 ],
 "metadata": {
  "kernelspec": {
   "display_name": "Python 3",
   "language": "python",
   "name": "python3"
  },
  "language_info": {
   "codemirror_mode": {
    "name": "ipython",
    "version": 3
   },
   "file_extension": ".py",
   "mimetype": "text/x-python",
   "name": "python",
   "nbconvert_exporter": "python",
   "pygments_lexer": "ipython3",
   "version": "3.6.5"
  }
 },
 "nbformat": 4,
 "nbformat_minor": 2
}
