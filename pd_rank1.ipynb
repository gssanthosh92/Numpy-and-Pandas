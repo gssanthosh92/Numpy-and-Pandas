{
 "cells": [
  {
   "cell_type": "code",
   "execution_count": 26,
   "metadata": {},
   "outputs": [
    {
     "name": "stdout",
     "output_type": "stream",
     "text": [
      "          Vol  Rev  Exp Catg  EmpCnt   HQ\n",
      "HCL       992  863  605  Pub    1935  NCR\n",
      "MRF       992  821  665  Pub    1154  Che\n",
      "ISROACL   931  881  650  Gov    1361  Blr\n",
      "Reliance  899  217  674  Pub    1443  Mum\n",
      "BCCI      925  839  615  Pvt     154  Mum\n",
      "Birla     900  874  676  Pub    1379  Kol\n",
      "Flipkart  966  805  695  Pvt     119  Blr\n",
      "Apollo    966  863  608  Pub    1656  Che\n",
      "IR        954  833  609  Gov   13023  NCR\n"
     ]
    }
   ],
   "source": [
    "import pandas as pd\n",
    "import numpy as np\n",
    " \n",
    "df = pd.read_csv(\"profit.csv\")\n",
    "print(df)"
   ]
  },
  {
   "cell_type": "code",
   "execution_count": null,
   "metadata": {},
   "outputs": [],
   "source": [
    "x = df.rank(axis=0)\n",
    "print(x)"
   ]
  },
  {
   "cell_type": "code",
   "execution_count": null,
   "metadata": {},
   "outputs": [],
   "source": [
    "y = df.rank(axis=1)\n",
    "print(y)"
   ]
  },
  {
   "cell_type": "code",
   "execution_count": null,
   "metadata": {},
   "outputs": [],
   "source": [
    "# Ranking of score ascending order\n",
    " \n",
    "df['srdes']=df['Vol'].rank(ascending=False)\n",
    "print(df)"
   ]
  },
  {
   "cell_type": "code",
   "execution_count": null,
   "metadata": {},
   "outputs": [],
   "source": [
    "# Ranking of score descending order\n",
    " \n",
    "df['srasc']=df['Vol'].rank(ascending=True)\n",
    "print(df)"
   ]
  },
  {
   "cell_type": "code",
   "execution_count": null,
   "metadata": {},
   "outputs": [],
   "source": [
    "# Ranking of score in descending order by minimum value\n",
    " \n",
    "df['srmn']=df['Vol'].rank(ascending=1,method='min')\n",
    "print(df)"
   ]
  },
  {
   "cell_type": "code",
   "execution_count": null,
   "metadata": {},
   "outputs": [],
   "source": [
    "df['srmx']=df['Vol'].rank(ascending=1,method='max')\n",
    "print(df)"
   ]
  },
  {
   "cell_type": "code",
   "execution_count": null,
   "metadata": {},
   "outputs": [],
   "source": [
    "df['srdns']=df['Vol'].rank(ascending=1,method='dense')\n",
    "print(df)"
   ]
  },
  {
   "cell_type": "code",
   "execution_count": 21,
   "metadata": {},
   "outputs": [
    {
     "name": "stdout",
     "output_type": "stream",
     "text": [
      "          Vol  Rev  Exp Catg  EmpCnt   HQ  sravg\n",
      "HCL       931  863  605  Pub    1935  NCR    5.5\n",
      "MRF       992  821  665  Pub    1154  Che    1.0\n",
      "ISROACL   931  881  650  Gov    1361  Blr    5.5\n",
      "Reliance  899  217  674  Pub    1443  Mum    9.0\n",
      "BCCI      925  839  615  Pvt     154  Mum    7.0\n",
      "Birla     900  874  676  Pub    1379  Kol    8.0\n",
      "Flipkart  966  805  695  Pvt     119  Blr    2.5\n",
      "Apollo    966  863  608  Pub    1656  Che    2.5\n",
      "IR        954  833  609  Gov   13023  NCR    4.0\n"
     ]
    }
   ],
   "source": [
    "df['sravg']=df['Vol'].rank(ascending=False,method='average')\n",
    "print(df)"
   ]
  },
  {
   "cell_type": "code",
   "execution_count": 22,
   "metadata": {},
   "outputs": [
    {
     "name": "stdout",
     "output_type": "stream",
     "text": [
      "          Vol  Rev  Exp Catg  EmpCnt   HQ  sravg  sravgpct\n",
      "HCL       931  863  605  Pub    1935  NCR    5.5  0.611111\n",
      "MRF       992  821  665  Pub    1154  Che    1.0  0.111111\n",
      "ISROACL   931  881  650  Gov    1361  Blr    5.5  0.611111\n",
      "Reliance  899  217  674  Pub    1443  Mum    9.0  1.000000\n",
      "BCCI      925  839  615  Pvt     154  Mum    7.0  0.777778\n",
      "Birla     900  874  676  Pub    1379  Kol    8.0  0.888889\n",
      "Flipkart  966  805  695  Pvt     119  Blr    2.5  0.277778\n",
      "Apollo    966  863  608  Pub    1656  Che    2.5  0.277778\n",
      "IR        954  833  609  Gov   13023  NCR    4.0  0.444444\n"
     ]
    }
   ],
   "source": [
    "#pct = (1/num_of_observ)*rank\n",
    "df['sravgpct']=df['Vol'].rank(ascending=False,method='average',pct=True)\n",
    "print(df)"
   ]
  },
  {
   "cell_type": "code",
   "execution_count": 27,
   "metadata": {},
   "outputs": [
    {
     "name": "stdout",
     "output_type": "stream",
     "text": [
      "          Vol  Rev  Exp Catg  EmpCnt   HQ  grank\n",
      "HCL       992  863  605  Pub    1935  NCR    4.5\n",
      "MRF       992  821  665  Pub    1154  Che    4.5\n",
      "ISROACL   931  881  650  Gov    1361  Blr    1.0\n",
      "Reliance  899  217  674  Pub    1443  Mum    1.0\n",
      "BCCI      925  839  615  Pvt     154  Mum    1.0\n",
      "Birla     900  874  676  Pub    1379  Kol    2.0\n",
      "Flipkart  966  805  695  Pvt     119  Blr    2.0\n",
      "Apollo    966  863  608  Pub    1656  Che    3.0\n",
      "IR        954  833  609  Gov   13023  NCR    2.0\n"
     ]
    }
   ],
   "source": [
    "# Rank by Group\n",
    " \n",
    "df[\"grank\"] = df.groupby(\"Catg\")[\"Vol\"].rank(ascending=1,method='average')\n",
    "print(df)"
   ]
  },
  {
   "cell_type": "code",
   "execution_count": null,
   "metadata": {},
   "outputs": [],
   "source": [
    "d1 = {'Volume1':[10,20,30,40,50]}\n",
    " \n",
    "df = pd.DataFrame(d1,columns=['Volume1'])\n",
    "print(df)"
   ]
  },
  {
   "cell_type": "code",
   "execution_count": null,
   "metadata": {},
   "outputs": [],
   "source": [
    "df['sravg']=df['Volume1'].rank(ascending=1,method='average',pct=True)\n",
    "print(df)"
   ]
  },
  {
   "cell_type": "code",
   "execution_count": null,
   "metadata": {},
   "outputs": [],
   "source": [
    "41*100/51"
   ]
  },
  {
   "cell_type": "code",
   "execution_count": null,
   "metadata": {},
   "outputs": [],
   "source": []
  },
  {
   "cell_type": "code",
   "execution_count": null,
   "metadata": {},
   "outputs": [],
   "source": []
  }
 ],
 "metadata": {
  "kernelspec": {
   "display_name": "Python 3",
   "language": "python",
   "name": "python3"
  },
  "language_info": {
   "codemirror_mode": {
    "name": "ipython",
    "version": 3
   },
   "file_extension": ".py",
   "mimetype": "text/x-python",
   "name": "python",
   "nbconvert_exporter": "python",
   "pygments_lexer": "ipython3",
   "version": "3.6.5"
  }
 },
 "nbformat": 4,
 "nbformat_minor": 2
}
