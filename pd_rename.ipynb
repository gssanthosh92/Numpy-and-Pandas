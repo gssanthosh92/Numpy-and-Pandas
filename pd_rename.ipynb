{
 "cells": [
  {
   "cell_type": "markdown",
   "metadata": {},
   "source": [
    "<span style=\"font-family: Arial; font-weight:bold;font-size:2em;color:#8707ff;\"> Renaming "
   ]
  },
  {
   "cell_type": "code",
   "execution_count": 1,
   "metadata": {},
   "outputs": [],
   "source": [
    "import pandas as pd"
   ]
  },
  {
   "cell_type": "code",
   "execution_count": 4,
   "metadata": {},
   "outputs": [
    {
     "name": "stdout",
     "output_type": "stream",
     "text": [
      "          Vol  Rev  Exp Catg  EmpCnt   HQ\n",
      "HCL       931  863  605  Pub    1935  NCR\n",
      "MRF       992  821  665  Pub    1154  Che\n",
      "ISROACL   931  881  650  Gov    1361  Blr\n",
      "Reliance  899  217  674  Pvt    1443  Mum\n",
      "BCCI      925  839  615  Pvt     154  Mum\n",
      "Birla     900  874  676  Pub    1379  Kol\n",
      "Flipkart  966  805  695  Pvt     119  Blr\n",
      "Apollo    966  863  608  Pub    1656  Jmd\n",
      "IR        954  833  609  Gov   13023  NCR\n"
     ]
    }
   ],
   "source": [
    "df = pd.read_csv(\"profit.csv\")\n",
    "print(df)"
   ]
  },
  {
   "cell_type": "code",
   "execution_count": 7,
   "metadata": {},
   "outputs": [
    {
     "name": "stdout",
     "output_type": "stream",
     "text": [
      "          Volume  Rev  Exp Catg  EmpCnt   HQ\n",
      "HCL          931  863  605  Pub    1935  NCR\n",
      "MRF          992  821  665  Pub    1154  Che\n",
      "ISROACL      931  881  650  Gov    1361  Blr\n",
      "Reliance     899  217  674  Pvt    1443  Mum\n",
      "BCCI         925  839  615  Pvt     154  Mum\n"
     ]
    }
   ],
   "source": [
    "df1 = df.rename({'Vol':'Volume'},axis=1)\n",
    "print(df1.head())\n"
   ]
  },
  {
   "cell_type": "code",
   "execution_count": 10,
   "metadata": {},
   "outputs": [
    {
     "name": "stdout",
     "output_type": "stream",
     "text": [
      "          Volume  Revenue  Exp Catg  EmpCnt   HQ\n",
      "HCL          931      863  605  Pub    1935  NCR\n",
      "MRF          992      821  665  Pub    1154  Che\n",
      "ISROACL      931      881  650  Gov    1361  Blr\n",
      "Reliance     899      217  674  Pvt    1443  Mum\n",
      "BCCI         925      839  615  Pvt     154  Mum\n"
     ]
    }
   ],
   "source": [
    "df1 = df.rename({'Vol':'Volume', 'Rev':'Revenue'},axis=1)\n",
    "print(df1.head())"
   ]
  },
  {
   "cell_type": "code",
   "execution_count": 5,
   "metadata": {},
   "outputs": [
    {
     "name": "stdout",
     "output_type": "stream",
     "text": [
      "None\n",
      "                Vol  Rev  Exp Catg  EmpCnt   HQ\n",
      "BCCI            925  839  615  Pvt     154  Mum\n",
      "Birla           900  874  676  Pub    1379  Kol\n",
      "Flipkart        966  805  695  Pvt     119  Blr\n",
      "Apollo          966  863  608  Pub    1656  Jmd\n",
      "IndianRailways  954  833  609  Gov   13023  NCR\n"
     ]
    }
   ],
   "source": [
    "print(df.rename({'IR':'IndianRailways'},axis=0,inplace=True))\n",
    "print(df.tail())"
   ]
  },
  {
   "cell_type": "code",
   "execution_count": null,
   "metadata": {},
   "outputs": [],
   "source": []
  }
 ],
 "metadata": {
  "kernelspec": {
   "display_name": "Python 3",
   "language": "python",
   "name": "python3"
  },
  "language_info": {
   "codemirror_mode": {
    "name": "ipython",
    "version": 3
   },
   "file_extension": ".py",
   "mimetype": "text/x-python",
   "name": "python",
   "nbconvert_exporter": "python",
   "pygments_lexer": "ipython3",
   "version": "3.6.5"
  }
 },
 "nbformat": 4,
 "nbformat_minor": 2
}
