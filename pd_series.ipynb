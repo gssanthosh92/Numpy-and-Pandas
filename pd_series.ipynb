{
 "cells": [
  {
   "cell_type": "markdown",
   "metadata": {},
   "source": [
    "# Pandas Series"
   ]
  },
  {
   "cell_type": "code",
   "execution_count": null,
   "metadata": {},
   "outputs": [],
   "source": [
    "import pandas as pd"
   ]
  },
  {
   "cell_type": "code",
   "execution_count": null,
   "metadata": {},
   "outputs": [],
   "source": [
    "mylist1 = [111,222,333,444,555,'aaa','bbb']\n",
    "ps1 = pd.Series(mylist1)\n",
    "print(ps1)\n",
    "print(type(ps1))\n",
    "print(ps1.shape)\n",
    "print(ps1.ndim)"
   ]
  },
  {
   "cell_type": "code",
   "execution_count": null,
   "metadata": {},
   "outputs": [],
   "source": [
    "print(ps1[5])\n",
    "print(ps1[2:5])\n",
    "print(ps1[[1,3,6]])"
   ]
  },
  {
   "cell_type": "code",
   "execution_count": null,
   "metadata": {},
   "outputs": [],
   "source": [
    "indexlist = ['r1','r2','r3','r4','r5','r6','r7']\n",
    "ps2 = pd.Series(mylist1, index=indexlist)\n",
    "print(ps2)"
   ]
  },
  {
   "cell_type": "code",
   "execution_count": null,
   "metadata": {},
   "outputs": [],
   "source": [
    "print(ps2[5])\n",
    "print(ps2[2:5])\n",
    "print(ps2[[1,3,6]])\n",
    "print(ps2['r2'])\n",
    "print(ps2['r2':'r6'])\n",
    "print(ps2[['r2','r3','r1','r6']])"
   ]
  },
  {
   "cell_type": "code",
   "execution_count": null,
   "metadata": {},
   "outputs": [],
   "source": [
    "print(ps2.index)\n",
    "print(ps2.values)"
   ]
  },
  {
   "cell_type": "code",
   "execution_count": null,
   "metadata": {},
   "outputs": [],
   "source": [
    "print(ps2[:5]+5)"
   ]
  },
  {
   "cell_type": "code",
   "execution_count": null,
   "metadata": {},
   "outputs": [],
   "source": [
    "print(ps2[ps2!=333])"
   ]
  },
  {
   "cell_type": "code",
   "execution_count": null,
   "metadata": {},
   "outputs": [],
   "source": [
    "myd1 = { 'TCS': 12, 'RIL': 64, 'INFY': 96 }\n",
    "ps3= pd.Series(myd1)\n",
    "print(ps3)"
   ]
  },
  {
   "cell_type": "code",
   "execution_count": null,
   "metadata": {},
   "outputs": [],
   "source": []
  }
 ],
 "metadata": {
  "kernelspec": {
   "display_name": "Python 3",
   "language": "python",
   "name": "python3"
  },
  "language_info": {
   "codemirror_mode": {
    "name": "ipython",
    "version": 3
   },
   "file_extension": ".py",
   "mimetype": "text/x-python",
   "name": "python",
   "nbconvert_exporter": "python",
   "pygments_lexer": "ipython3",
   "version": "3.7.3"
  }
 },
 "nbformat": 4,
 "nbformat_minor": 2
}
