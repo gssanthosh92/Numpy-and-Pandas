{
 "cells": [
  {
   "cell_type": "code",
   "execution_count": 1,
   "metadata": {},
   "outputs": [],
   "source": [
    "import pandas as pd"
   ]
  },
  {
   "cell_type": "code",
   "execution_count": 28,
   "metadata": {},
   "outputs": [
    {
     "name": "stdout",
     "output_type": "stream",
     "text": [
      "          Vol  Rev  Exp Catg  EmpCnt   HQ\n",
      "HCL       931  863  605  Pub    1935  NCR\n",
      "MRF       992  821  665  Pub    1154  Che\n",
      "ISROACL   931  881  650  Gov    1361  Blr\n",
      "Reliance  899  217  674  Pub    1443  Mum\n",
      "BCCI      925  839  615  Pvt     154  Mum\n",
      "Birla     900  874  676  Pub    1379  Kol\n",
      "Flipkart  966  805  695  Pvt     119  Blr\n",
      "Apollo    966  863  608  Pub    1656  Che\n",
      "IR        954  833  609  Gov   13023  NCR\n"
     ]
    }
   ],
   "source": [
    "df = pd.read_csv(\"profit.csv\")\n",
    "print(df)"
   ]
  },
  {
   "cell_type": "code",
   "execution_count": 13,
   "metadata": {},
   "outputs": [
    {
     "name": "stdout",
     "output_type": "stream",
     "text": [
      "         Catg  EmpCnt  Exp   HQ  Rev  Vol\n",
      "HCL       Pub    1935  605  NCR  863  931\n",
      "MRF       Pub    1154  665  Che  821  992\n",
      "ISROACL   Gov    1361  650  Blr  881  931\n",
      "Reliance  Pub    1443  674  Mum  217  899\n",
      "BCCI      Pvt     154  615  Mum  839  925\n",
      "Birla     Pub    1379  676  Kol  874  900\n",
      "Flipkart  Pvt     119  695  Blr  805  966\n",
      "Apollo    Pub    1656  608  Che  863  966\n",
      "IR        Gov   13023  609  NCR  833  954\n",
      "          Vol  Rev  Exp Catg  EmpCnt   HQ\n",
      "HCL       931  863  605  Pub    1935  NCR\n",
      "MRF       992  821  665  Pub    1154  Che\n",
      "ISROACL   931  881  650  Gov    1361  Blr\n",
      "Reliance  899  217  674  Pub    1443  Mum\n",
      "BCCI      925  839  615  Pvt     154  Mum\n",
      "Birla     900  874  676  Pub    1379  Kol\n",
      "Flipkart  966  805  695  Pvt     119  Blr\n",
      "Apollo    966  863  608  Pub    1656  Che\n",
      "IR        954  833  609  Gov   13023  NCR\n"
     ]
    }
   ],
   "source": [
    "df1=df.sort_index(inplace=False, ascending=True,axis=1)\n",
    "print(df1)\n",
    "print(df)"
   ]
  },
  {
   "cell_type": "code",
   "execution_count": null,
   "metadata": {},
   "outputs": [],
   "source": [
    "df=df.sort_index(ascending=False)\n",
    "print(df)"
   ]
  },
  {
   "cell_type": "code",
   "execution_count": 20,
   "metadata": {},
   "outputs": [
    {
     "name": "stdout",
     "output_type": "stream",
     "text": [
      "     Vol  Rev  Exp Catg  EmpCnt   HQ\n",
      "HCL  931  863  605  Pub    1935  NCR\n",
      "MRF  992  821  665  Pub    1154  Che\n",
      "          Vol  Rev  Exp Catg  EmpCnt   HQ\n",
      "Reliance  899  217  674  Pub    1443  Mum\n",
      "Birla     900  874  676  Pub    1379  Kol\n",
      "BCCI      925  839  615  Pvt     154  Mum\n",
      "ISROACL   931  881  650  Gov    1361  Blr\n",
      "HCL       931  863  605  Pub    1935  NCR\n",
      "IR        954  833  609  Gov   13023  NCR\n",
      "Apollo    966  863  608  Pub    1656  Che\n",
      "Flipkart  966  805  695  Pvt     119  Blr\n",
      "MRF       992  821  665  Pub    1154  Che\n"
     ]
    }
   ],
   "source": [
    "print(df.head(2))\n",
    "df1 = df.sort_values(by=['Vol','Rev'],ascending=[True,False])\n",
    "print(df1)"
   ]
  },
  {
   "cell_type": "code",
   "execution_count": 29,
   "metadata": {},
   "outputs": [
    {
     "name": "stdout",
     "output_type": "stream",
     "text": [
      "     Vol  Rev  Exp Catg  EmpCnt   HQ\n",
      "HCL  931  863  605  Pub    1935  NCR\n",
      "MRF  992  821  665  Pub    1154  Che\n",
      "          Vol  Rev  Exp  EmpCnt\n",
      "HCL       931  863  605    1935\n",
      "MRF       992  821  665    1154\n",
      "ISROACL   931  881  650    1361\n",
      "Reliance  899  217  674    1443\n",
      "BCCI      925  839  615     154\n",
      "Birla     900  874  676    1379\n",
      "Apollo    966  863  608    1656\n",
      "IR        954  833  609   13023\n"
     ]
    },
    {
     "data": {
      "text/html": [
       "<div>\n",
       "<style scoped>\n",
       "    .dataframe tbody tr th:only-of-type {\n",
       "        vertical-align: middle;\n",
       "    }\n",
       "\n",
       "    .dataframe tbody tr th {\n",
       "        vertical-align: top;\n",
       "    }\n",
       "\n",
       "    .dataframe thead th {\n",
       "        text-align: right;\n",
       "    }\n",
       "</style>\n",
       "<table border=\"1\" class=\"dataframe\">\n",
       "  <thead>\n",
       "    <tr style=\"text-align: right;\">\n",
       "      <th></th>\n",
       "      <th>EmpCnt</th>\n",
       "      <th>Vol</th>\n",
       "      <th>Rev</th>\n",
       "      <th>Exp</th>\n",
       "    </tr>\n",
       "  </thead>\n",
       "  <tbody>\n",
       "    <tr>\n",
       "      <th>HCL</th>\n",
       "      <td>1935</td>\n",
       "      <td>931</td>\n",
       "      <td>863</td>\n",
       "      <td>605</td>\n",
       "    </tr>\n",
       "    <tr>\n",
       "      <th>MRF</th>\n",
       "      <td>1154</td>\n",
       "      <td>992</td>\n",
       "      <td>821</td>\n",
       "      <td>665</td>\n",
       "    </tr>\n",
       "    <tr>\n",
       "      <th>ISROACL</th>\n",
       "      <td>1361</td>\n",
       "      <td>931</td>\n",
       "      <td>881</td>\n",
       "      <td>650</td>\n",
       "    </tr>\n",
       "    <tr>\n",
       "      <th>Reliance</th>\n",
       "      <td>1443</td>\n",
       "      <td>899</td>\n",
       "      <td>217</td>\n",
       "      <td>674</td>\n",
       "    </tr>\n",
       "    <tr>\n",
       "      <th>BCCI</th>\n",
       "      <td>154</td>\n",
       "      <td>925</td>\n",
       "      <td>839</td>\n",
       "      <td>615</td>\n",
       "    </tr>\n",
       "    <tr>\n",
       "      <th>Birla</th>\n",
       "      <td>1379</td>\n",
       "      <td>900</td>\n",
       "      <td>874</td>\n",
       "      <td>676</td>\n",
       "    </tr>\n",
       "    <tr>\n",
       "      <th>Apollo</th>\n",
       "      <td>1656</td>\n",
       "      <td>966</td>\n",
       "      <td>863</td>\n",
       "      <td>608</td>\n",
       "    </tr>\n",
       "    <tr>\n",
       "      <th>IR</th>\n",
       "      <td>13023</td>\n",
       "      <td>954</td>\n",
       "      <td>833</td>\n",
       "      <td>609</td>\n",
       "    </tr>\n",
       "  </tbody>\n",
       "</table>\n",
       "</div>"
      ],
      "text/plain": [
       "          EmpCnt  Vol  Rev  Exp\n",
       "HCL         1935  931  863  605\n",
       "MRF         1154  992  821  665\n",
       "ISROACL     1361  931  881  650\n",
       "Reliance    1443  899  217  674\n",
       "BCCI         154  925  839  615\n",
       "Birla       1379  900  874  676\n",
       "Apollo      1656  966  863  608\n",
       "IR         13023  954  833  609"
      ]
     },
     "execution_count": 29,
     "metadata": {},
     "output_type": "execute_result"
    }
   ],
   "source": [
    "print(df.head(2))\n",
    "df.drop(['HQ','Catg'],inplace=True, axis=1)\n",
    "df.drop('Flipkart',inplace=True,axis=0)\n",
    "print(df)\n",
    "df.sort_values(by='MRF',axis=1,ascending=False)"
   ]
  },
  {
   "cell_type": "code",
   "execution_count": null,
   "metadata": {},
   "outputs": [],
   "source": [
    "df.sort_values(by=['Vol', 'Rev'],ascending=[True,False])"
   ]
  },
  {
   "cell_type": "code",
   "execution_count": null,
   "metadata": {},
   "outputs": [],
   "source": [
    "df.sort_values(\"Vol\", inplace = True) \n",
    "df "
   ]
  },
  {
   "cell_type": "code",
   "execution_count": null,
   "metadata": {},
   "outputs": [],
   "source": []
  }
 ],
 "metadata": {
  "kernelspec": {
   "display_name": "Python 3",
   "language": "python",
   "name": "python3"
  },
  "language_info": {
   "codemirror_mode": {
    "name": "ipython",
    "version": 3
   },
   "file_extension": ".py",
   "mimetype": "text/x-python",
   "name": "python",
   "nbconvert_exporter": "python",
   "pygments_lexer": "ipython3",
   "version": "3.6.5"
  }
 },
 "nbformat": 4,
 "nbformat_minor": 2
}
