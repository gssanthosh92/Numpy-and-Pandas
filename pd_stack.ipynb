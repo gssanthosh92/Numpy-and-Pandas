{
 "cells": [
  {
   "cell_type": "markdown",
   "metadata": {},
   "source": [
    "# Stack function"
   ]
  },
  {
   "cell_type": "code",
   "execution_count": 2,
   "metadata": {},
   "outputs": [
    {
     "name": "stdout",
     "output_type": "stream",
     "text": [
      "           Sem1                            Sem2                       \n",
      "       3_Months        6_Months        3_Months        6_Months       \n",
      "             ML Python       ML Python       ML Python       ML Python\n",
      "James        12     45       67     56       45     34       23     67\n",
      "Anil         78     89       45     67       45     23       78     57\n",
      "Sunil        45     67       89     90       24     57       46     97\n",
      "Smriti       67     44       56     55       13     43       62     84\n"
     ]
    }
   ],
   "source": [
    "import pandas as pd\n",
    "\n",
    "header = pd.MultiIndex.from_product([['Sem1','Sem2'],['3_Months','6_Months'],['ML','Python']])\n",
    "\n",
    "d=[[12,45,67,56,45,34,23,67],[78,89,45,67,45,23,78,57],[45,67,89,90,24,57,46,97],[67,44,56,55,13,43,62,84]]\n",
    "\n",
    "df = pd.DataFrame(d,\n",
    "                  index=['James','Anil','Sunil','Smriti'],\n",
    "                  columns=header)\n",
    "print(df)\n",
    "\n"
   ]
  },
  {
   "cell_type": "code",
   "execution_count": 4,
   "metadata": {},
   "outputs": [
    {
     "name": "stdout",
     "output_type": "stream",
     "text": [
      "MultiIndex(levels=[['Sem1', 'Sem2'], ['3_Months', '6_Months'], ['ML', 'Python']],\n",
      "           labels=[[0, 0, 0, 0, 1, 1, 1, 1], [0, 0, 1, 1, 0, 0, 1, 1], [0, 1, 0, 1, 0, 1, 0, 1]])\n"
     ]
    }
   ],
   "source": [
    "print(df.columns)"
   ]
  },
  {
   "cell_type": "code",
   "execution_count": 3,
   "metadata": {},
   "outputs": [
    {
     "name": "stdout",
     "output_type": "stream",
     "text": [
      "Index(['James', 'Anil', 'Sunil', 'Smriti'], dtype='object')\n"
     ]
    }
   ],
   "source": [
    "print(df.index)"
   ]
  },
  {
   "cell_type": "code",
   "execution_count": 6,
   "metadata": {},
   "outputs": [
    {
     "name": "stdout",
     "output_type": "stream",
     "text": [
      "                  Sem1              Sem2         \n",
      "              3_Months 6_Months 3_Months 6_Months\n",
      "James  ML           12       67       45       23\n",
      "       Python       45       56       34       67\n",
      "Anil   ML           78       45       45       78\n",
      "       Python       89       67       23       57\n",
      "Sunil  ML           45       89       24       46\n",
      "       Python       67       90       57       97\n",
      "Smriti ML           67       56       13       62\n",
      "       Python       44       55       43       84\n"
     ]
    }
   ],
   "source": [
    "#print(df)\n",
    "stacked_df=df.stack()\n",
    "print(stacked_df)\n",
    "#df.to_csv(\"dfstack\")"
   ]
  },
  {
   "cell_type": "code",
   "execution_count": 10,
   "metadata": {},
   "outputs": [
    {
     "name": "stdout",
     "output_type": "stream",
     "text": [
      "56\n"
     ]
    }
   ],
   "source": [
    "print(stacked_df.loc[('Smriti','ML'),('Sem1','6_Months')])"
   ]
  },
  {
   "cell_type": "code",
   "execution_count": 18,
   "metadata": {},
   "outputs": [
    {
     "name": "stdout",
     "output_type": "stream",
     "text": [
      "James   ML        67\n",
      "        Python    56\n",
      "Anil    ML        45\n",
      "        Python    67\n",
      "Sunil   ML        89\n",
      "        Python    90\n",
      "Smriti  ML        56\n",
      "        Python    55\n",
      "Name: 6_Months, dtype: int64\n"
     ]
    }
   ],
   "source": [
    "s1 = stacked_df.Sem1\n",
    "print(s1['6_Months'])"
   ]
  },
  {
   "cell_type": "code",
   "execution_count": 7,
   "metadata": {},
   "outputs": [
    {
     "data": {
      "text/plain": [
       "MultiIndex(levels=[['Sem1', 'Sem2'], ['3_Months', '6_Months']],\n",
       "           labels=[[0, 0, 1, 1], [0, 1, 0, 1]])"
      ]
     },
     "execution_count": 7,
     "metadata": {},
     "output_type": "execute_result"
    }
   ],
   "source": [
    "stacked_df.columns"
   ]
  },
  {
   "cell_type": "code",
   "execution_count": 8,
   "metadata": {},
   "outputs": [
    {
     "data": {
      "text/plain": [
       "MultiIndex(levels=[['James', 'Anil', 'Sunil', 'Smriti'], ['ML', 'Python']],\n",
       "           labels=[[0, 0, 1, 1, 2, 2, 3, 3], [0, 1, 0, 1, 0, 1, 0, 1]])"
      ]
     },
     "execution_count": 8,
     "metadata": {},
     "output_type": "execute_result"
    }
   ],
   "source": [
    "stacked_df.index"
   ]
  },
  {
   "cell_type": "code",
   "execution_count": 21,
   "metadata": {},
   "outputs": [
    {
     "name": "stdout",
     "output_type": "stream",
     "text": [
      "            3_Months        6_Months       \n",
      "                  ML Python       ML Python\n",
      "James  Sem1       12     45       67     56\n",
      "       Sem2       45     34       23     67\n",
      "Anil   Sem1       78     89       45     67\n",
      "       Sem2       45     23       78     57\n",
      "Sunil  Sem1       45     67       89     90\n",
      "       Sem2       24     57       46     97\n",
      "Smriti Sem1       67     44       56     55\n",
      "       Sem2       13     43       62     84\n"
     ]
    }
   ],
   "source": [
    "#print(df)\n",
    "stacked_df=df.stack(level=0)\n",
    "print(stacked_df)"
   ]
  },
  {
   "cell_type": "code",
   "execution_count": null,
   "metadata": {},
   "outputs": [],
   "source": [
    "stacked_df=df.stack(level=1)\n",
    "print(stacked_df)"
   ]
  },
  {
   "cell_type": "markdown",
   "metadata": {},
   "source": [
    "# Unstack"
   ]
  },
  {
   "cell_type": "code",
   "execution_count": 23,
   "metadata": {},
   "outputs": [
    {
     "name": "stdout",
     "output_type": "stream",
     "text": [
      "            3_Months        6_Months       \n",
      "                  ML Python       ML Python\n",
      "James  Sem1       12     45       67     56\n",
      "       Sem2       45     34       23     67\n",
      "Anil   Sem1       78     89       45     67\n",
      "       Sem2       45     23       78     57\n",
      "Sunil  Sem1       45     67       89     90\n",
      "       Sem2       24     57       46     97\n",
      "Smriti Sem1       67     44       56     55\n",
      "       Sem2       13     43       62     84\n",
      "     3_Months                                            6_Months             \\\n",
      "           ML                   Python                         ML              \n",
      "        James Anil Sunil Smriti  James Anil Sunil Smriti    James Anil Sunil   \n",
      "Sem1       12   78    45     67     45   89    67     44       67   45    89   \n",
      "Sem2       45   45    24     13     34   23    57     43       23   78    46   \n",
      "\n",
      "                                      \n",
      "            Python                    \n",
      "     Smriti  James Anil Sunil Smriti  \n",
      "Sem1     56     56   67    90     55  \n",
      "Sem2     62     67   57    97     84  \n"
     ]
    }
   ],
   "source": [
    "print(stacked_df)\n",
    "unstacked_df = stacked_df.unstack(level=0)\n",
    "print(unstacked_df)"
   ]
  },
  {
   "cell_type": "code",
   "execution_count": null,
   "metadata": {},
   "outputs": [],
   "source": [
    "unstacked_df"
   ]
  },
  {
   "cell_type": "markdown",
   "metadata": {},
   "source": [
    "# Melt"
   ]
  },
  {
   "cell_type": "code",
   "execution_count": 24,
   "metadata": {},
   "outputs": [
    {
     "name": "stdout",
     "output_type": "stream",
     "text": [
      "    location Temperature  Jan-2019  Feb-2019  Mar-2019\n",
      "0  Bangalore     Predict        30        45        24\n",
      "1    Chennai      Actual        32        43        22\n"
     ]
    }
   ],
   "source": [
    "data = {\n",
    "    \"location\":['Bangalore', 'Chennai'],\n",
    "    \"Temperature\" : [\"Predict\", \"Actual\"],\n",
    "    \"Jan-2019\":[30, 32],\n",
    "    \"Feb-2019\":[45, 43],\n",
    "    \"Mar-2019\":[24, 22]\n",
    "}\n",
    "df = pd.DataFrame(data)\n",
    "print(df)"
   ]
  },
  {
   "cell_type": "code",
   "execution_count": 28,
   "metadata": {},
   "outputs": [
    {
     "name": "stdout",
     "output_type": "stream",
     "text": [
      "    location Temperature melted_col_labels  melted_col_values\n",
      "0  Bangalore     Predict          Jan-2019                 30\n",
      "1    Chennai      Actual          Jan-2019                 32\n",
      "2  Bangalore     Predict          Feb-2019                 45\n",
      "3    Chennai      Actual          Feb-2019                 43\n",
      "4  Bangalore     Predict          Mar-2019                 24\n",
      "5    Chennai      Actual          Mar-2019                 22\n"
     ]
    }
   ],
   "source": [
    "df2 = pd.melt(df, id_vars=[\"location\", \"Temperature\"], var_name=\"melted_col_labels\", value_name=\"melted_col_values\")\n",
    "print(df2)"
   ]
  },
  {
   "cell_type": "code",
   "execution_count": null,
   "metadata": {},
   "outputs": [],
   "source": [
    "print(df)"
   ]
  },
  {
   "cell_type": "code",
   "execution_count": null,
   "metadata": {},
   "outputs": [],
   "source": []
  }
 ],
 "metadata": {
  "kernelspec": {
   "display_name": "Python 3",
   "language": "python",
   "name": "python3"
  },
  "language_info": {
   "codemirror_mode": {
    "name": "ipython",
    "version": 3
   },
   "file_extension": ".py",
   "mimetype": "text/x-python",
   "name": "python",
   "nbconvert_exporter": "python",
   "pygments_lexer": "ipython3",
   "version": "3.6.5"
  }
 },
 "nbformat": 4,
 "nbformat_minor": 2
}
